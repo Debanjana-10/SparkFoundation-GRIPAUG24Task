{
 "cells": [
  {
   "cell_type": "markdown",
   "id": "0a6dc8c6-32cb-4176-95f1-df74f056713c",
   "metadata": {},
   "source": [
    "**PROBLEM STATEMENT**"
   ]
  },
  {
   "cell_type": "markdown",
   "id": "f6165f37-6c35-4abf-b559-b3f527b7b886",
   "metadata": {},
   "source": [
    "As a business manager ,try to find out the weak areas where you can work to make more profit"
   ]
  },
  {
   "cell_type": "markdown",
   "id": "95661c29-37ee-460c-a9b9-f565d23fce3c",
   "metadata": {},
   "source": [
    "**OBJECTIVE**"
   ]
  },
  {
   "cell_type": "markdown",
   "id": "c09d45d3-c167-45c4-b8bf-cf6f1588670f",
   "metadata": {},
   "source": [
    "1) Using Exploratory Data Analysis (EDA) on dataset 'SampleSuperstore' derive the possible business problems\n",
    "2) Explore the weak areas where profit can be increased by implementing ncessary improvements."
   ]
  },
  {
   "cell_type": "markdown",
   "id": "2dcd639f-1c2d-481f-8ac5-a53ac620ed29",
   "metadata": {},
   "source": [
    "**TOOL USED:** Python"
   ]
  },
  {
   "cell_type": "markdown",
   "id": "8f996520-1a11-4f0c-b7e6-fbd907da6de7",
   "metadata": {},
   "source": [
    "**IDE:** Jupyter Notebook"
   ]
  },
  {
   "cell_type": "markdown",
   "id": "7683350a-4a54-402c-9854-be68e1dc0137",
   "metadata": {},
   "source": [
    "**DATASET:** https://bit.ly/3i4rbWl"
   ]
  },
  {
   "cell_type": "markdown",
   "id": "fc96ef45-fb4d-47b1-812e-55b430cbff80",
   "metadata": {},
   "source": [
    "**STEPS FOLLOWED:**"
   ]
  },
  {
   "cell_type": "markdown",
   "id": "5e7743d5-8fba-4820-8bf0-d03c66bd05cf",
   "metadata": {},
   "source": [
    "1)Loading the Dataset\n",
    "\n",
    "2)Understanding the data\n",
    "\n",
    "3)Data Quality check and missing values\n",
    "\n",
    "4)Checking for outliers\n",
    "\n",
    "5)Data Visualization and Analysis\n",
    "\n",
    "6)Interpretation and conclusion\n",
    "\n",
    "7)Recommendations"
   ]
  },
  {
   "cell_type": "code",
   "execution_count": 220,
   "id": "19453f6b-a695-45d6-8821-cd126ed58344",
   "metadata": {},
   "outputs": [],
   "source": [
    "#filtering out the warnings\n",
    "import warnings\n",
    "warnings.filterwarnings('ignore')"
   ]
  },
  {
   "cell_type": "code",
   "execution_count": 222,
   "id": "c5356609-4b30-4cf2-826c-7af78b26e144",
   "metadata": {},
   "outputs": [],
   "source": [
    "#importing required libraries\n",
    "import pandas as pd\n",
    "import numpy as np\n",
    "import matplotlib.pyplot as plt\n",
    "import seaborn as sns"
   ]
  },
  {
   "cell_type": "markdown",
   "id": "1cef1ec9-d981-4942-980b-f5619bc9a32f",
   "metadata": {},
   "source": [
    "**1. Loading the data**"
   ]
  },
  {
   "cell_type": "code",
   "execution_count": 225,
   "id": "ffc4915d-8564-48fe-b2c3-ab2720f8c539",
   "metadata": {},
   "outputs": [
    {
     "data": {
      "text/html": [
       "<div>\n",
       "<style scoped>\n",
       "    .dataframe tbody tr th:only-of-type {\n",
       "        vertical-align: middle;\n",
       "    }\n",
       "\n",
       "    .dataframe tbody tr th {\n",
       "        vertical-align: top;\n",
       "    }\n",
       "\n",
       "    .dataframe thead th {\n",
       "        text-align: right;\n",
       "    }\n",
       "</style>\n",
       "<table border=\"1\" class=\"dataframe\">\n",
       "  <thead>\n",
       "    <tr style=\"text-align: right;\">\n",
       "      <th></th>\n",
       "      <th>Ship Mode</th>\n",
       "      <th>Segment</th>\n",
       "      <th>Country</th>\n",
       "      <th>City</th>\n",
       "      <th>State</th>\n",
       "      <th>Postal Code</th>\n",
       "      <th>Region</th>\n",
       "      <th>Category</th>\n",
       "      <th>Sub-Category</th>\n",
       "      <th>Sales</th>\n",
       "      <th>Quantity</th>\n",
       "      <th>Discount</th>\n",
       "      <th>Profit</th>\n",
       "    </tr>\n",
       "  </thead>\n",
       "  <tbody>\n",
       "    <tr>\n",
       "      <th>0</th>\n",
       "      <td>Second Class</td>\n",
       "      <td>Consumer</td>\n",
       "      <td>United States</td>\n",
       "      <td>Henderson</td>\n",
       "      <td>Kentucky</td>\n",
       "      <td>42420</td>\n",
       "      <td>South</td>\n",
       "      <td>Furniture</td>\n",
       "      <td>Bookcases</td>\n",
       "      <td>261.9600</td>\n",
       "      <td>2</td>\n",
       "      <td>0.00</td>\n",
       "      <td>41.9136</td>\n",
       "    </tr>\n",
       "    <tr>\n",
       "      <th>1</th>\n",
       "      <td>Second Class</td>\n",
       "      <td>Consumer</td>\n",
       "      <td>United States</td>\n",
       "      <td>Henderson</td>\n",
       "      <td>Kentucky</td>\n",
       "      <td>42420</td>\n",
       "      <td>South</td>\n",
       "      <td>Furniture</td>\n",
       "      <td>Chairs</td>\n",
       "      <td>731.9400</td>\n",
       "      <td>3</td>\n",
       "      <td>0.00</td>\n",
       "      <td>219.5820</td>\n",
       "    </tr>\n",
       "    <tr>\n",
       "      <th>2</th>\n",
       "      <td>Second Class</td>\n",
       "      <td>Corporate</td>\n",
       "      <td>United States</td>\n",
       "      <td>Los Angeles</td>\n",
       "      <td>California</td>\n",
       "      <td>90036</td>\n",
       "      <td>West</td>\n",
       "      <td>Office Supplies</td>\n",
       "      <td>Labels</td>\n",
       "      <td>14.6200</td>\n",
       "      <td>2</td>\n",
       "      <td>0.00</td>\n",
       "      <td>6.8714</td>\n",
       "    </tr>\n",
       "    <tr>\n",
       "      <th>3</th>\n",
       "      <td>Standard Class</td>\n",
       "      <td>Consumer</td>\n",
       "      <td>United States</td>\n",
       "      <td>Fort Lauderdale</td>\n",
       "      <td>Florida</td>\n",
       "      <td>33311</td>\n",
       "      <td>South</td>\n",
       "      <td>Furniture</td>\n",
       "      <td>Tables</td>\n",
       "      <td>957.5775</td>\n",
       "      <td>5</td>\n",
       "      <td>0.45</td>\n",
       "      <td>-383.0310</td>\n",
       "    </tr>\n",
       "    <tr>\n",
       "      <th>4</th>\n",
       "      <td>Standard Class</td>\n",
       "      <td>Consumer</td>\n",
       "      <td>United States</td>\n",
       "      <td>Fort Lauderdale</td>\n",
       "      <td>Florida</td>\n",
       "      <td>33311</td>\n",
       "      <td>South</td>\n",
       "      <td>Office Supplies</td>\n",
       "      <td>Storage</td>\n",
       "      <td>22.3680</td>\n",
       "      <td>2</td>\n",
       "      <td>0.20</td>\n",
       "      <td>2.5164</td>\n",
       "    </tr>\n",
       "    <tr>\n",
       "      <th>5</th>\n",
       "      <td>Standard Class</td>\n",
       "      <td>Consumer</td>\n",
       "      <td>United States</td>\n",
       "      <td>Los Angeles</td>\n",
       "      <td>California</td>\n",
       "      <td>90032</td>\n",
       "      <td>West</td>\n",
       "      <td>Furniture</td>\n",
       "      <td>Furnishings</td>\n",
       "      <td>48.8600</td>\n",
       "      <td>7</td>\n",
       "      <td>0.00</td>\n",
       "      <td>14.1694</td>\n",
       "    </tr>\n",
       "    <tr>\n",
       "      <th>6</th>\n",
       "      <td>Standard Class</td>\n",
       "      <td>Consumer</td>\n",
       "      <td>United States</td>\n",
       "      <td>Los Angeles</td>\n",
       "      <td>California</td>\n",
       "      <td>90032</td>\n",
       "      <td>West</td>\n",
       "      <td>Office Supplies</td>\n",
       "      <td>Art</td>\n",
       "      <td>7.2800</td>\n",
       "      <td>4</td>\n",
       "      <td>0.00</td>\n",
       "      <td>1.9656</td>\n",
       "    </tr>\n",
       "    <tr>\n",
       "      <th>7</th>\n",
       "      <td>Standard Class</td>\n",
       "      <td>Consumer</td>\n",
       "      <td>United States</td>\n",
       "      <td>Los Angeles</td>\n",
       "      <td>California</td>\n",
       "      <td>90032</td>\n",
       "      <td>West</td>\n",
       "      <td>Technology</td>\n",
       "      <td>Phones</td>\n",
       "      <td>907.1520</td>\n",
       "      <td>6</td>\n",
       "      <td>0.20</td>\n",
       "      <td>90.7152</td>\n",
       "    </tr>\n",
       "    <tr>\n",
       "      <th>8</th>\n",
       "      <td>Standard Class</td>\n",
       "      <td>Consumer</td>\n",
       "      <td>United States</td>\n",
       "      <td>Los Angeles</td>\n",
       "      <td>California</td>\n",
       "      <td>90032</td>\n",
       "      <td>West</td>\n",
       "      <td>Office Supplies</td>\n",
       "      <td>Binders</td>\n",
       "      <td>18.5040</td>\n",
       "      <td>3</td>\n",
       "      <td>0.20</td>\n",
       "      <td>5.7825</td>\n",
       "    </tr>\n",
       "    <tr>\n",
       "      <th>9</th>\n",
       "      <td>Standard Class</td>\n",
       "      <td>Consumer</td>\n",
       "      <td>United States</td>\n",
       "      <td>Los Angeles</td>\n",
       "      <td>California</td>\n",
       "      <td>90032</td>\n",
       "      <td>West</td>\n",
       "      <td>Office Supplies</td>\n",
       "      <td>Appliances</td>\n",
       "      <td>114.9000</td>\n",
       "      <td>5</td>\n",
       "      <td>0.00</td>\n",
       "      <td>34.4700</td>\n",
       "    </tr>\n",
       "  </tbody>\n",
       "</table>\n",
       "</div>"
      ],
      "text/plain": [
       "        Ship Mode    Segment        Country             City       State  \\\n",
       "0    Second Class   Consumer  United States        Henderson    Kentucky   \n",
       "1    Second Class   Consumer  United States        Henderson    Kentucky   \n",
       "2    Second Class  Corporate  United States      Los Angeles  California   \n",
       "3  Standard Class   Consumer  United States  Fort Lauderdale     Florida   \n",
       "4  Standard Class   Consumer  United States  Fort Lauderdale     Florida   \n",
       "5  Standard Class   Consumer  United States      Los Angeles  California   \n",
       "6  Standard Class   Consumer  United States      Los Angeles  California   \n",
       "7  Standard Class   Consumer  United States      Los Angeles  California   \n",
       "8  Standard Class   Consumer  United States      Los Angeles  California   \n",
       "9  Standard Class   Consumer  United States      Los Angeles  California   \n",
       "\n",
       "   Postal Code Region         Category Sub-Category     Sales  Quantity  \\\n",
       "0        42420  South        Furniture    Bookcases  261.9600         2   \n",
       "1        42420  South        Furniture       Chairs  731.9400         3   \n",
       "2        90036   West  Office Supplies       Labels   14.6200         2   \n",
       "3        33311  South        Furniture       Tables  957.5775         5   \n",
       "4        33311  South  Office Supplies      Storage   22.3680         2   \n",
       "5        90032   West        Furniture  Furnishings   48.8600         7   \n",
       "6        90032   West  Office Supplies          Art    7.2800         4   \n",
       "7        90032   West       Technology       Phones  907.1520         6   \n",
       "8        90032   West  Office Supplies      Binders   18.5040         3   \n",
       "9        90032   West  Office Supplies   Appliances  114.9000         5   \n",
       "\n",
       "   Discount    Profit  \n",
       "0      0.00   41.9136  \n",
       "1      0.00  219.5820  \n",
       "2      0.00    6.8714  \n",
       "3      0.45 -383.0310  \n",
       "4      0.20    2.5164  \n",
       "5      0.00   14.1694  \n",
       "6      0.00    1.9656  \n",
       "7      0.20   90.7152  \n",
       "8      0.20    5.7825  \n",
       "9      0.00   34.4700  "
      ]
     },
     "execution_count": 225,
     "metadata": {},
     "output_type": "execute_result"
    }
   ],
   "source": [
    "#loading the reqd dataset\n",
    "file_path=r'C:\\Users\\hp\\Downloads\\SampleSuperstore.csv'\n",
    "retail=pd.read_csv(file_path)\n",
    "\n",
    "#checking the top rows of the dataset\n",
    "retail.head(10)"
   ]
  },
  {
   "cell_type": "code",
   "execution_count": 226,
   "id": "83097373-c874-4a01-ac84-bb5d64f3058d",
   "metadata": {},
   "outputs": [
    {
     "data": {
      "text/html": [
       "<div>\n",
       "<style scoped>\n",
       "    .dataframe tbody tr th:only-of-type {\n",
       "        vertical-align: middle;\n",
       "    }\n",
       "\n",
       "    .dataframe tbody tr th {\n",
       "        vertical-align: top;\n",
       "    }\n",
       "\n",
       "    .dataframe thead th {\n",
       "        text-align: right;\n",
       "    }\n",
       "</style>\n",
       "<table border=\"1\" class=\"dataframe\">\n",
       "  <thead>\n",
       "    <tr style=\"text-align: right;\">\n",
       "      <th></th>\n",
       "      <th>Ship Mode</th>\n",
       "      <th>Segment</th>\n",
       "      <th>Country</th>\n",
       "      <th>City</th>\n",
       "      <th>State</th>\n",
       "      <th>Postal Code</th>\n",
       "      <th>Region</th>\n",
       "      <th>Category</th>\n",
       "      <th>Sub-Category</th>\n",
       "      <th>Sales</th>\n",
       "      <th>Quantity</th>\n",
       "      <th>Discount</th>\n",
       "      <th>Profit</th>\n",
       "    </tr>\n",
       "  </thead>\n",
       "  <tbody>\n",
       "    <tr>\n",
       "      <th>7772</th>\n",
       "      <td>Standard Class</td>\n",
       "      <td>Consumer</td>\n",
       "      <td>United States</td>\n",
       "      <td>Lancaster</td>\n",
       "      <td>Ohio</td>\n",
       "      <td>43130</td>\n",
       "      <td>East</td>\n",
       "      <td>Technology</td>\n",
       "      <td>Machines</td>\n",
       "      <td>4499.985</td>\n",
       "      <td>5</td>\n",
       "      <td>0.7</td>\n",
       "      <td>-6599.9780</td>\n",
       "    </tr>\n",
       "    <tr>\n",
       "      <th>683</th>\n",
       "      <td>Same Day</td>\n",
       "      <td>Corporate</td>\n",
       "      <td>United States</td>\n",
       "      <td>Burlington</td>\n",
       "      <td>North Carolina</td>\n",
       "      <td>27217</td>\n",
       "      <td>South</td>\n",
       "      <td>Technology</td>\n",
       "      <td>Machines</td>\n",
       "      <td>7999.980</td>\n",
       "      <td>4</td>\n",
       "      <td>0.5</td>\n",
       "      <td>-3839.9904</td>\n",
       "    </tr>\n",
       "    <tr>\n",
       "      <th>9774</th>\n",
       "      <td>Standard Class</td>\n",
       "      <td>Consumer</td>\n",
       "      <td>United States</td>\n",
       "      <td>San Antonio</td>\n",
       "      <td>Texas</td>\n",
       "      <td>78207</td>\n",
       "      <td>Central</td>\n",
       "      <td>Office Supplies</td>\n",
       "      <td>Binders</td>\n",
       "      <td>2177.584</td>\n",
       "      <td>8</td>\n",
       "      <td>0.8</td>\n",
       "      <td>-3701.8928</td>\n",
       "    </tr>\n",
       "    <tr>\n",
       "      <th>3011</th>\n",
       "      <td>Standard Class</td>\n",
       "      <td>Home Office</td>\n",
       "      <td>United States</td>\n",
       "      <td>Louisville</td>\n",
       "      <td>Colorado</td>\n",
       "      <td>80027</td>\n",
       "      <td>West</td>\n",
       "      <td>Technology</td>\n",
       "      <td>Machines</td>\n",
       "      <td>2549.985</td>\n",
       "      <td>5</td>\n",
       "      <td>0.7</td>\n",
       "      <td>-3399.9800</td>\n",
       "    </tr>\n",
       "    <tr>\n",
       "      <th>4991</th>\n",
       "      <td>Standard Class</td>\n",
       "      <td>Corporate</td>\n",
       "      <td>United States</td>\n",
       "      <td>Chicago</td>\n",
       "      <td>Illinois</td>\n",
       "      <td>60653</td>\n",
       "      <td>Central</td>\n",
       "      <td>Office Supplies</td>\n",
       "      <td>Binders</td>\n",
       "      <td>1889.990</td>\n",
       "      <td>5</td>\n",
       "      <td>0.8</td>\n",
       "      <td>-2929.4845</td>\n",
       "    </tr>\n",
       "    <tr>\n",
       "      <th>...</th>\n",
       "      <td>...</td>\n",
       "      <td>...</td>\n",
       "      <td>...</td>\n",
       "      <td>...</td>\n",
       "      <td>...</td>\n",
       "      <td>...</td>\n",
       "      <td>...</td>\n",
       "      <td>...</td>\n",
       "      <td>...</td>\n",
       "      <td>...</td>\n",
       "      <td>...</td>\n",
       "      <td>...</td>\n",
       "      <td>...</td>\n",
       "    </tr>\n",
       "    <tr>\n",
       "      <th>4098</th>\n",
       "      <td>Standard Class</td>\n",
       "      <td>Consumer</td>\n",
       "      <td>United States</td>\n",
       "      <td>Minneapolis</td>\n",
       "      <td>Minnesota</td>\n",
       "      <td>55407</td>\n",
       "      <td>Central</td>\n",
       "      <td>Office Supplies</td>\n",
       "      <td>Binders</td>\n",
       "      <td>9449.950</td>\n",
       "      <td>5</td>\n",
       "      <td>0.0</td>\n",
       "      <td>4630.4755</td>\n",
       "    </tr>\n",
       "    <tr>\n",
       "      <th>9039</th>\n",
       "      <td>Standard Class</td>\n",
       "      <td>Consumer</td>\n",
       "      <td>United States</td>\n",
       "      <td>Detroit</td>\n",
       "      <td>Michigan</td>\n",
       "      <td>48205</td>\n",
       "      <td>Central</td>\n",
       "      <td>Office Supplies</td>\n",
       "      <td>Binders</td>\n",
       "      <td>9892.740</td>\n",
       "      <td>13</td>\n",
       "      <td>0.0</td>\n",
       "      <td>4946.3700</td>\n",
       "    </tr>\n",
       "    <tr>\n",
       "      <th>4190</th>\n",
       "      <td>Standard Class</td>\n",
       "      <td>Consumer</td>\n",
       "      <td>United States</td>\n",
       "      <td>Newark</td>\n",
       "      <td>Delaware</td>\n",
       "      <td>19711</td>\n",
       "      <td>East</td>\n",
       "      <td>Technology</td>\n",
       "      <td>Copiers</td>\n",
       "      <td>10499.970</td>\n",
       "      <td>3</td>\n",
       "      <td>0.0</td>\n",
       "      <td>5039.9856</td>\n",
       "    </tr>\n",
       "    <tr>\n",
       "      <th>8153</th>\n",
       "      <td>First Class</td>\n",
       "      <td>Consumer</td>\n",
       "      <td>United States</td>\n",
       "      <td>Seattle</td>\n",
       "      <td>Washington</td>\n",
       "      <td>98115</td>\n",
       "      <td>West</td>\n",
       "      <td>Technology</td>\n",
       "      <td>Copiers</td>\n",
       "      <td>13999.960</td>\n",
       "      <td>4</td>\n",
       "      <td>0.0</td>\n",
       "      <td>6719.9808</td>\n",
       "    </tr>\n",
       "    <tr>\n",
       "      <th>6826</th>\n",
       "      <td>Standard Class</td>\n",
       "      <td>Corporate</td>\n",
       "      <td>United States</td>\n",
       "      <td>Lafayette</td>\n",
       "      <td>Indiana</td>\n",
       "      <td>47905</td>\n",
       "      <td>Central</td>\n",
       "      <td>Technology</td>\n",
       "      <td>Copiers</td>\n",
       "      <td>17499.950</td>\n",
       "      <td>5</td>\n",
       "      <td>0.0</td>\n",
       "      <td>8399.9760</td>\n",
       "    </tr>\n",
       "  </tbody>\n",
       "</table>\n",
       "<p>9994 rows × 13 columns</p>\n",
       "</div>"
      ],
      "text/plain": [
       "           Ship Mode      Segment        Country         City           State  \\\n",
       "7772  Standard Class     Consumer  United States    Lancaster            Ohio   \n",
       "683         Same Day    Corporate  United States   Burlington  North Carolina   \n",
       "9774  Standard Class     Consumer  United States  San Antonio           Texas   \n",
       "3011  Standard Class  Home Office  United States   Louisville        Colorado   \n",
       "4991  Standard Class    Corporate  United States      Chicago        Illinois   \n",
       "...              ...          ...            ...          ...             ...   \n",
       "4098  Standard Class     Consumer  United States  Minneapolis       Minnesota   \n",
       "9039  Standard Class     Consumer  United States      Detroit        Michigan   \n",
       "4190  Standard Class     Consumer  United States       Newark        Delaware   \n",
       "8153     First Class     Consumer  United States      Seattle      Washington   \n",
       "6826  Standard Class    Corporate  United States    Lafayette         Indiana   \n",
       "\n",
       "      Postal Code   Region         Category Sub-Category      Sales  Quantity  \\\n",
       "7772        43130     East       Technology     Machines   4499.985         5   \n",
       "683         27217    South       Technology     Machines   7999.980         4   \n",
       "9774        78207  Central  Office Supplies      Binders   2177.584         8   \n",
       "3011        80027     West       Technology     Machines   2549.985         5   \n",
       "4991        60653  Central  Office Supplies      Binders   1889.990         5   \n",
       "...           ...      ...              ...          ...        ...       ...   \n",
       "4098        55407  Central  Office Supplies      Binders   9449.950         5   \n",
       "9039        48205  Central  Office Supplies      Binders   9892.740        13   \n",
       "4190        19711     East       Technology      Copiers  10499.970         3   \n",
       "8153        98115     West       Technology      Copiers  13999.960         4   \n",
       "6826        47905  Central       Technology      Copiers  17499.950         5   \n",
       "\n",
       "      Discount     Profit  \n",
       "7772       0.7 -6599.9780  \n",
       "683        0.5 -3839.9904  \n",
       "9774       0.8 -3701.8928  \n",
       "3011       0.7 -3399.9800  \n",
       "4991       0.8 -2929.4845  \n",
       "...        ...        ...  \n",
       "4098       0.0  4630.4755  \n",
       "9039       0.0  4946.3700  \n",
       "4190       0.0  5039.9856  \n",
       "8153       0.0  6719.9808  \n",
       "6826       0.0  8399.9760  \n",
       "\n",
       "[9994 rows x 13 columns]"
      ]
     },
     "execution_count": 226,
     "metadata": {},
     "output_type": "execute_result"
    }
   ],
   "source": [
    "#sorting by the profit in ascending order\n",
    "retail.sort_values(by = 'Profit',ascending = True)"
   ]
  },
  {
   "cell_type": "markdown",
   "id": "2a9bb089-76fd-4b3e-9dcb-6a4900385337",
   "metadata": {},
   "source": [
    "**2.Understanding the data**"
   ]
  },
  {
   "cell_type": "code",
   "execution_count": 228,
   "id": "6afa37d5-1444-4f09-8df4-ed2f997e6c8a",
   "metadata": {},
   "outputs": [
    {
     "data": {
      "text/plain": [
       "Index(['Ship Mode', 'Segment', 'Country', 'City', 'State', 'Postal Code',\n",
       "       'Region', 'Category', 'Sub-Category', 'Sales', 'Quantity', 'Discount',\n",
       "       'Profit'],\n",
       "      dtype='object')"
      ]
     },
     "execution_count": 228,
     "metadata": {},
     "output_type": "execute_result"
    }
   ],
   "source": [
    "#checking column names\n",
    "retail.columns"
   ]
  },
  {
   "cell_type": "code",
   "execution_count": 229,
   "id": "a6c4217a-c9d0-444f-9703-70d7a278ef8a",
   "metadata": {},
   "outputs": [
    {
     "data": {
      "text/plain": [
       "(9994, 13)"
      ]
     },
     "execution_count": 229,
     "metadata": {},
     "output_type": "execute_result"
    }
   ],
   "source": [
    "#checking data dimension\n",
    "retail.shape"
   ]
  },
  {
   "cell_type": "code",
   "execution_count": 234,
   "id": "3ca64cd3-b2b6-49cc-8446-e207c2875b34",
   "metadata": {},
   "outputs": [
    {
     "name": "stdout",
     "output_type": "stream",
     "text": [
      "<class 'pandas.core.frame.DataFrame'>\n",
      "RangeIndex: 9994 entries, 0 to 9993\n",
      "Data columns (total 13 columns):\n",
      " #   Column        Non-Null Count  Dtype  \n",
      "---  ------        --------------  -----  \n",
      " 0   Ship Mode     9994 non-null   object \n",
      " 1   Segment       9994 non-null   object \n",
      " 2   Country       9994 non-null   object \n",
      " 3   City          9994 non-null   object \n",
      " 4   State         9994 non-null   object \n",
      " 5   Postal Code   9994 non-null   int64  \n",
      " 6   Region        9994 non-null   object \n",
      " 7   Category      9994 non-null   object \n",
      " 8   Sub-Category  9994 non-null   object \n",
      " 9   Sales         9994 non-null   float64\n",
      " 10  Quantity      9994 non-null   int64  \n",
      " 11  Discount      9994 non-null   float64\n",
      " 12  Profit        9994 non-null   float64\n",
      "dtypes: float64(3), int64(2), object(8)\n",
      "memory usage: 1015.1+ KB\n"
     ]
    }
   ],
   "source": [
    "#checking column information\n",
    "retail.info()"
   ]
  },
  {
   "cell_type": "code",
   "execution_count": 236,
   "id": "77fda96f-7024-4663-84f7-2d392b02256f",
   "metadata": {},
   "outputs": [
    {
     "data": {
      "text/html": [
       "<div>\n",
       "<style scoped>\n",
       "    .dataframe tbody tr th:only-of-type {\n",
       "        vertical-align: middle;\n",
       "    }\n",
       "\n",
       "    .dataframe tbody tr th {\n",
       "        vertical-align: top;\n",
       "    }\n",
       "\n",
       "    .dataframe thead th {\n",
       "        text-align: right;\n",
       "    }\n",
       "</style>\n",
       "<table border=\"1\" class=\"dataframe\">\n",
       "  <thead>\n",
       "    <tr style=\"text-align: right;\">\n",
       "      <th></th>\n",
       "      <th>Postal Code</th>\n",
       "      <th>Sales</th>\n",
       "      <th>Quantity</th>\n",
       "      <th>Discount</th>\n",
       "      <th>Profit</th>\n",
       "    </tr>\n",
       "  </thead>\n",
       "  <tbody>\n",
       "    <tr>\n",
       "      <th>count</th>\n",
       "      <td>9994.000000</td>\n",
       "      <td>9994.000000</td>\n",
       "      <td>9994.000000</td>\n",
       "      <td>9994.000000</td>\n",
       "      <td>9994.000000</td>\n",
       "    </tr>\n",
       "    <tr>\n",
       "      <th>mean</th>\n",
       "      <td>55190.379428</td>\n",
       "      <td>229.858001</td>\n",
       "      <td>3.789574</td>\n",
       "      <td>0.156203</td>\n",
       "      <td>28.656896</td>\n",
       "    </tr>\n",
       "    <tr>\n",
       "      <th>std</th>\n",
       "      <td>32063.693350</td>\n",
       "      <td>623.245101</td>\n",
       "      <td>2.225110</td>\n",
       "      <td>0.206452</td>\n",
       "      <td>234.260108</td>\n",
       "    </tr>\n",
       "    <tr>\n",
       "      <th>min</th>\n",
       "      <td>1040.000000</td>\n",
       "      <td>0.444000</td>\n",
       "      <td>1.000000</td>\n",
       "      <td>0.000000</td>\n",
       "      <td>-6599.978000</td>\n",
       "    </tr>\n",
       "    <tr>\n",
       "      <th>25%</th>\n",
       "      <td>23223.000000</td>\n",
       "      <td>17.280000</td>\n",
       "      <td>2.000000</td>\n",
       "      <td>0.000000</td>\n",
       "      <td>1.728750</td>\n",
       "    </tr>\n",
       "    <tr>\n",
       "      <th>50%</th>\n",
       "      <td>56430.500000</td>\n",
       "      <td>54.490000</td>\n",
       "      <td>3.000000</td>\n",
       "      <td>0.200000</td>\n",
       "      <td>8.666500</td>\n",
       "    </tr>\n",
       "    <tr>\n",
       "      <th>75%</th>\n",
       "      <td>90008.000000</td>\n",
       "      <td>209.940000</td>\n",
       "      <td>5.000000</td>\n",
       "      <td>0.200000</td>\n",
       "      <td>29.364000</td>\n",
       "    </tr>\n",
       "    <tr>\n",
       "      <th>max</th>\n",
       "      <td>99301.000000</td>\n",
       "      <td>22638.480000</td>\n",
       "      <td>14.000000</td>\n",
       "      <td>0.800000</td>\n",
       "      <td>8399.976000</td>\n",
       "    </tr>\n",
       "  </tbody>\n",
       "</table>\n",
       "</div>"
      ],
      "text/plain": [
       "        Postal Code         Sales     Quantity     Discount       Profit\n",
       "count   9994.000000   9994.000000  9994.000000  9994.000000  9994.000000\n",
       "mean   55190.379428    229.858001     3.789574     0.156203    28.656896\n",
       "std    32063.693350    623.245101     2.225110     0.206452   234.260108\n",
       "min     1040.000000      0.444000     1.000000     0.000000 -6599.978000\n",
       "25%    23223.000000     17.280000     2.000000     0.000000     1.728750\n",
       "50%    56430.500000     54.490000     3.000000     0.200000     8.666500\n",
       "75%    90008.000000    209.940000     5.000000     0.200000    29.364000\n",
       "max    99301.000000  22638.480000    14.000000     0.800000  8399.976000"
      ]
     },
     "execution_count": 236,
     "metadata": {},
     "output_type": "execute_result"
    }
   ],
   "source": [
    "#summary statistics\n",
    "retail.describe()"
   ]
  },
  {
   "cell_type": "markdown",
   "id": "9c44c51d-fde7-4f78-b50d-8b4c7fe9089c",
   "metadata": {},
   "source": [
    "**3.Data Quality check and Missing values**\n"
   ]
  },
  {
   "cell_type": "code",
   "execution_count": 239,
   "id": "becdecd0-0ea9-4920-8c2d-854a10afc503",
   "metadata": {},
   "outputs": [
    {
     "data": {
      "text/plain": [
       "Ship Mode       0\n",
       "Segment         0\n",
       "Country         0\n",
       "City            0\n",
       "State           0\n",
       "Postal Code     0\n",
       "Region          0\n",
       "Category        0\n",
       "Sub-Category    0\n",
       "Sales           0\n",
       "Quantity        0\n",
       "Discount        0\n",
       "Profit          0\n",
       "dtype: int64"
      ]
     },
     "execution_count": 239,
     "metadata": {},
     "output_type": "execute_result"
    }
   ],
   "source": [
    "#checking for missing values \n",
    "retail.isnull().sum()"
   ]
  },
  {
   "cell_type": "markdown",
   "id": "d693f617-10b8-49e1-800e-ec85a458748c",
   "metadata": {},
   "source": [
    "INITIAL INFERENCE: 1) There are no missing values\n",
    "2)Columns have correct data types accordingly."
   ]
  },
  {
   "cell_type": "code",
   "execution_count": 242,
   "id": "0fc4db9d-6ed8-48be-aa20-cfcdf585a389",
   "metadata": {},
   "outputs": [
    {
     "data": {
      "text/plain": [
       "array(['United States'], dtype=object)"
      ]
     },
     "execution_count": 242,
     "metadata": {},
     "output_type": "execute_result"
    }
   ],
   "source": [
    "#checking the country column \n",
    "retail.Country.unique()"
   ]
  },
  {
   "cell_type": "markdown",
   "id": "85f85f5a-9a60-45ef-a68a-0fcb29e428af",
   "metadata": {},
   "source": [
    "INFERENCE: The Country column consists of only United States and hence we can drop this column as it will not aid in the analysis"
   ]
  },
  {
   "cell_type": "code",
   "execution_count": 245,
   "id": "e6f261be-4060-4240-9972-7c8866d294b8",
   "metadata": {},
   "outputs": [
    {
     "data": {
      "text/plain": [
       "(604,)"
      ]
     },
     "execution_count": 245,
     "metadata": {},
     "output_type": "execute_result"
    }
   ],
   "source": [
    "#checking data dimensions for region\n",
    "retail.groupby(['State','City',])['Region'].count().shape"
   ]
  },
  {
   "cell_type": "code",
   "execution_count": 247,
   "id": "cca12187-c272-4f87-9579-6cd50ddbf170",
   "metadata": {},
   "outputs": [
    {
     "data": {
      "text/plain": [
       "(604,)"
      ]
     },
     "execution_count": 247,
     "metadata": {},
     "output_type": "execute_result"
    }
   ],
   "source": [
    "#checking for data dimensions of postal code\n",
    "retail.groupby(['State','City',])['Postal Code'].count().shape"
   ]
  },
  {
   "cell_type": "markdown",
   "id": "f60046cf-b3ad-4e70-bd91-94d25e2549af",
   "metadata": {},
   "source": [
    "INFERENCE: Shape of dataframe of both region and postal code are same"
   ]
  },
  {
   "cell_type": "code",
   "execution_count": 250,
   "id": "a2af4c42-8518-48a3-b470-43039c55abd2",
   "metadata": {},
   "outputs": [
    {
     "name": "stdout",
     "output_type": "stream",
     "text": [
      "Series([], Name: Postal Code, dtype: int64)\n",
      "Series([], Name: Region, dtype: int64)\n"
     ]
    },
    {
     "data": {
      "text/plain": [
       "State      City      \n",
       "Alabama    Auburn         6\n",
       "           Decatur       13\n",
       "           Florence       5\n",
       "           Hoover         4\n",
       "           Huntsville    10\n",
       "                         ..\n",
       "Wisconsin  Superior       9\n",
       "           Waukesha       1\n",
       "           Wausau         4\n",
       "           West Allis     2\n",
       "Wyoming    Cheyenne       1\n",
       "Name: Region, Length: 604, dtype: int64"
      ]
     },
     "execution_count": 250,
     "metadata": {},
     "output_type": "execute_result"
    }
   ],
   "source": [
    "#checking if the number counts are matching or not by taking the difference of two data frames\n",
    "df1= retail.groupby(['State','City',])['Region'].count()\n",
    "df2=retail.groupby(['State','City'])['Postal Code'].count()\n",
    "print(df2[(df2!=df1)].dropna(how='all'))\n",
    "print(df1[(df1!=df2)].dropna(how='all'))\n",
    "df1"
   ]
  },
  {
   "cell_type": "markdown",
   "id": "a6bfc638-f0cc-4967-83e1-0d7ce6bf4592",
   "metadata": {},
   "source": [
    "INFERENCE: As Postal Code is by region we are dropping Postal Code"
   ]
  },
  {
   "cell_type": "code",
   "execution_count": 253,
   "id": "1a959649-e5bf-412b-add0-4432e8aafe96",
   "metadata": {},
   "outputs": [],
   "source": [
    "#dropping columns Country and Postal Code\n",
    "retail.drop(['Country','Postal Code'],axis=1, inplace=True)"
   ]
  },
  {
   "cell_type": "code",
   "execution_count": 255,
   "id": "37aefa11-1da5-454d-a9bf-061a873f4a1b",
   "metadata": {},
   "outputs": [
    {
     "data": {
      "text/html": [
       "<div>\n",
       "<style scoped>\n",
       "    .dataframe tbody tr th:only-of-type {\n",
       "        vertical-align: middle;\n",
       "    }\n",
       "\n",
       "    .dataframe tbody tr th {\n",
       "        vertical-align: top;\n",
       "    }\n",
       "\n",
       "    .dataframe thead th {\n",
       "        text-align: right;\n",
       "    }\n",
       "</style>\n",
       "<table border=\"1\" class=\"dataframe\">\n",
       "  <thead>\n",
       "    <tr style=\"text-align: right;\">\n",
       "      <th></th>\n",
       "      <th>Ship Mode</th>\n",
       "      <th>Segment</th>\n",
       "      <th>City</th>\n",
       "      <th>State</th>\n",
       "      <th>Region</th>\n",
       "      <th>Category</th>\n",
       "      <th>Sub-Category</th>\n",
       "      <th>Sales</th>\n",
       "      <th>Quantity</th>\n",
       "      <th>Discount</th>\n",
       "      <th>Profit</th>\n",
       "    </tr>\n",
       "  </thead>\n",
       "  <tbody>\n",
       "    <tr>\n",
       "      <th>0</th>\n",
       "      <td>Second Class</td>\n",
       "      <td>Consumer</td>\n",
       "      <td>Henderson</td>\n",
       "      <td>Kentucky</td>\n",
       "      <td>South</td>\n",
       "      <td>Furniture</td>\n",
       "      <td>Bookcases</td>\n",
       "      <td>261.9600</td>\n",
       "      <td>2</td>\n",
       "      <td>0.00</td>\n",
       "      <td>41.9136</td>\n",
       "    </tr>\n",
       "    <tr>\n",
       "      <th>1</th>\n",
       "      <td>Second Class</td>\n",
       "      <td>Consumer</td>\n",
       "      <td>Henderson</td>\n",
       "      <td>Kentucky</td>\n",
       "      <td>South</td>\n",
       "      <td>Furniture</td>\n",
       "      <td>Chairs</td>\n",
       "      <td>731.9400</td>\n",
       "      <td>3</td>\n",
       "      <td>0.00</td>\n",
       "      <td>219.5820</td>\n",
       "    </tr>\n",
       "    <tr>\n",
       "      <th>2</th>\n",
       "      <td>Second Class</td>\n",
       "      <td>Corporate</td>\n",
       "      <td>Los Angeles</td>\n",
       "      <td>California</td>\n",
       "      <td>West</td>\n",
       "      <td>Office Supplies</td>\n",
       "      <td>Labels</td>\n",
       "      <td>14.6200</td>\n",
       "      <td>2</td>\n",
       "      <td>0.00</td>\n",
       "      <td>6.8714</td>\n",
       "    </tr>\n",
       "    <tr>\n",
       "      <th>3</th>\n",
       "      <td>Standard Class</td>\n",
       "      <td>Consumer</td>\n",
       "      <td>Fort Lauderdale</td>\n",
       "      <td>Florida</td>\n",
       "      <td>South</td>\n",
       "      <td>Furniture</td>\n",
       "      <td>Tables</td>\n",
       "      <td>957.5775</td>\n",
       "      <td>5</td>\n",
       "      <td>0.45</td>\n",
       "      <td>-383.0310</td>\n",
       "    </tr>\n",
       "    <tr>\n",
       "      <th>4</th>\n",
       "      <td>Standard Class</td>\n",
       "      <td>Consumer</td>\n",
       "      <td>Fort Lauderdale</td>\n",
       "      <td>Florida</td>\n",
       "      <td>South</td>\n",
       "      <td>Office Supplies</td>\n",
       "      <td>Storage</td>\n",
       "      <td>22.3680</td>\n",
       "      <td>2</td>\n",
       "      <td>0.20</td>\n",
       "      <td>2.5164</td>\n",
       "    </tr>\n",
       "  </tbody>\n",
       "</table>\n",
       "</div>"
      ],
      "text/plain": [
       "        Ship Mode    Segment             City       State Region  \\\n",
       "0    Second Class   Consumer        Henderson    Kentucky  South   \n",
       "1    Second Class   Consumer        Henderson    Kentucky  South   \n",
       "2    Second Class  Corporate      Los Angeles  California   West   \n",
       "3  Standard Class   Consumer  Fort Lauderdale     Florida  South   \n",
       "4  Standard Class   Consumer  Fort Lauderdale     Florida  South   \n",
       "\n",
       "          Category Sub-Category     Sales  Quantity  Discount    Profit  \n",
       "0        Furniture    Bookcases  261.9600         2      0.00   41.9136  \n",
       "1        Furniture       Chairs  731.9400         3      0.00  219.5820  \n",
       "2  Office Supplies       Labels   14.6200         2      0.00    6.8714  \n",
       "3        Furniture       Tables  957.5775         5      0.45 -383.0310  \n",
       "4  Office Supplies      Storage   22.3680         2      0.20    2.5164  "
      ]
     },
     "execution_count": 255,
     "metadata": {},
     "output_type": "execute_result"
    }
   ],
   "source": [
    "retail.head()"
   ]
  },
  {
   "cell_type": "code",
   "execution_count": 257,
   "id": "fa92430f-2ca3-442f-abfe-6d66a4538840",
   "metadata": {},
   "outputs": [
    {
     "data": {
      "text/plain": [
       "(9994, 11)"
      ]
     },
     "execution_count": 257,
     "metadata": {},
     "output_type": "execute_result"
    }
   ],
   "source": [
    "#cross checking data dimension\n",
    "retail.shape"
   ]
  },
  {
   "cell_type": "code",
   "execution_count": 259,
   "id": "b024d30d-09fe-4422-854e-fb02bf40afda",
   "metadata": {},
   "outputs": [
    {
     "data": {
      "text/html": [
       "<div>\n",
       "<style scoped>\n",
       "    .dataframe tbody tr th:only-of-type {\n",
       "        vertical-align: middle;\n",
       "    }\n",
       "\n",
       "    .dataframe tbody tr th {\n",
       "        vertical-align: top;\n",
       "    }\n",
       "\n",
       "    .dataframe thead th {\n",
       "        text-align: right;\n",
       "    }\n",
       "</style>\n",
       "<table border=\"1\" class=\"dataframe\">\n",
       "  <thead>\n",
       "    <tr style=\"text-align: right;\">\n",
       "      <th></th>\n",
       "      <th>State</th>\n",
       "      <th>City</th>\n",
       "      <th>Region</th>\n",
       "      <th>Ship Mode</th>\n",
       "      <th>Segment</th>\n",
       "      <th>Category</th>\n",
       "      <th>Sub-Category</th>\n",
       "      <th>Quantity</th>\n",
       "    </tr>\n",
       "  </thead>\n",
       "  <tbody>\n",
       "    <tr>\n",
       "      <th>0</th>\n",
       "      <td>Alabama</td>\n",
       "      <td>Auburn</td>\n",
       "      <td>South</td>\n",
       "      <td>Second Class</td>\n",
       "      <td>Consumer</td>\n",
       "      <td>Office Supplies</td>\n",
       "      <td>Envelopes</td>\n",
       "      <td>1</td>\n",
       "    </tr>\n",
       "    <tr>\n",
       "      <th>1</th>\n",
       "      <td>Alabama</td>\n",
       "      <td>Auburn</td>\n",
       "      <td>South</td>\n",
       "      <td>Second Class</td>\n",
       "      <td>Consumer</td>\n",
       "      <td>Office Supplies</td>\n",
       "      <td>Labels</td>\n",
       "      <td>1</td>\n",
       "    </tr>\n",
       "    <tr>\n",
       "      <th>2</th>\n",
       "      <td>Alabama</td>\n",
       "      <td>Auburn</td>\n",
       "      <td>South</td>\n",
       "      <td>Standard Class</td>\n",
       "      <td>Consumer</td>\n",
       "      <td>Furniture</td>\n",
       "      <td>Chairs</td>\n",
       "      <td>1</td>\n",
       "    </tr>\n",
       "    <tr>\n",
       "      <th>3</th>\n",
       "      <td>Alabama</td>\n",
       "      <td>Auburn</td>\n",
       "      <td>South</td>\n",
       "      <td>Standard Class</td>\n",
       "      <td>Consumer</td>\n",
       "      <td>Office Supplies</td>\n",
       "      <td>Paper</td>\n",
       "      <td>1</td>\n",
       "    </tr>\n",
       "    <tr>\n",
       "      <th>4</th>\n",
       "      <td>Alabama</td>\n",
       "      <td>Auburn</td>\n",
       "      <td>South</td>\n",
       "      <td>Standard Class</td>\n",
       "      <td>Consumer</td>\n",
       "      <td>Office Supplies</td>\n",
       "      <td>Storage</td>\n",
       "      <td>1</td>\n",
       "    </tr>\n",
       "    <tr>\n",
       "      <th>...</th>\n",
       "      <td>...</td>\n",
       "      <td>...</td>\n",
       "      <td>...</td>\n",
       "      <td>...</td>\n",
       "      <td>...</td>\n",
       "      <td>...</td>\n",
       "      <td>...</td>\n",
       "      <td>...</td>\n",
       "    </tr>\n",
       "    <tr>\n",
       "      <th>5791</th>\n",
       "      <td>Wisconsin</td>\n",
       "      <td>Wausau</td>\n",
       "      <td>Central</td>\n",
       "      <td>Standard Class</td>\n",
       "      <td>Consumer</td>\n",
       "      <td>Office Supplies</td>\n",
       "      <td>Binders</td>\n",
       "      <td>1</td>\n",
       "    </tr>\n",
       "    <tr>\n",
       "      <th>5792</th>\n",
       "      <td>Wisconsin</td>\n",
       "      <td>Wausau</td>\n",
       "      <td>Central</td>\n",
       "      <td>Standard Class</td>\n",
       "      <td>Consumer</td>\n",
       "      <td>Office Supplies</td>\n",
       "      <td>Storage</td>\n",
       "      <td>2</td>\n",
       "    </tr>\n",
       "    <tr>\n",
       "      <th>5793</th>\n",
       "      <td>Wisconsin</td>\n",
       "      <td>West Allis</td>\n",
       "      <td>Central</td>\n",
       "      <td>Second Class</td>\n",
       "      <td>Corporate</td>\n",
       "      <td>Furniture</td>\n",
       "      <td>Bookcases</td>\n",
       "      <td>1</td>\n",
       "    </tr>\n",
       "    <tr>\n",
       "      <th>5794</th>\n",
       "      <td>Wisconsin</td>\n",
       "      <td>West Allis</td>\n",
       "      <td>Central</td>\n",
       "      <td>Second Class</td>\n",
       "      <td>Corporate</td>\n",
       "      <td>Office Supplies</td>\n",
       "      <td>Binders</td>\n",
       "      <td>1</td>\n",
       "    </tr>\n",
       "    <tr>\n",
       "      <th>5795</th>\n",
       "      <td>Wyoming</td>\n",
       "      <td>Cheyenne</td>\n",
       "      <td>West</td>\n",
       "      <td>Standard Class</td>\n",
       "      <td>Home Office</td>\n",
       "      <td>Furniture</td>\n",
       "      <td>Chairs</td>\n",
       "      <td>1</td>\n",
       "    </tr>\n",
       "  </tbody>\n",
       "</table>\n",
       "<p>5796 rows × 8 columns</p>\n",
       "</div>"
      ],
      "text/plain": [
       "          State        City   Region       Ship Mode      Segment  \\\n",
       "0       Alabama      Auburn    South    Second Class     Consumer   \n",
       "1       Alabama      Auburn    South    Second Class     Consumer   \n",
       "2       Alabama      Auburn    South  Standard Class     Consumer   \n",
       "3       Alabama      Auburn    South  Standard Class     Consumer   \n",
       "4       Alabama      Auburn    South  Standard Class     Consumer   \n",
       "...         ...         ...      ...             ...          ...   \n",
       "5791  Wisconsin      Wausau  Central  Standard Class     Consumer   \n",
       "5792  Wisconsin      Wausau  Central  Standard Class     Consumer   \n",
       "5793  Wisconsin  West Allis  Central    Second Class    Corporate   \n",
       "5794  Wisconsin  West Allis  Central    Second Class    Corporate   \n",
       "5795    Wyoming    Cheyenne     West  Standard Class  Home Office   \n",
       "\n",
       "             Category Sub-Category  Quantity  \n",
       "0     Office Supplies    Envelopes         1  \n",
       "1     Office Supplies       Labels         1  \n",
       "2           Furniture       Chairs         1  \n",
       "3     Office Supplies        Paper         1  \n",
       "4     Office Supplies      Storage         1  \n",
       "...               ...          ...       ...  \n",
       "5791  Office Supplies      Binders         1  \n",
       "5792  Office Supplies      Storage         2  \n",
       "5793        Furniture    Bookcases         1  \n",
       "5794  Office Supplies      Binders         1  \n",
       "5795        Furniture       Chairs         1  \n",
       "\n",
       "[5796 rows x 8 columns]"
      ]
     },
     "execution_count": 259,
     "metadata": {},
     "output_type": "execute_result"
    }
   ],
   "source": [
    "#The dataset has Sub-category and category columns whereas quantity corresponds to a particular product from sub-category so there can be multiple quantity for a category considering all the other options.\n",
    "#checking granularity of data on product level or category level\n",
    "retail.groupby(['State','City','Region','Ship Mode','Segment','Category','Sub-Category'])['Quantity'].nunique().reset_index()"
   ]
  },
  {
   "cell_type": "markdown",
   "id": "d75459f7-60c3-4d0f-8f97-364a1e1c7746",
   "metadata": {},
   "source": [
    "INFERENCE:Checking granularity of data at the sub-category level"
   ]
  },
  {
   "cell_type": "code",
   "execution_count": 262,
   "id": "7e5abac2-8907-439c-a4f8-ad913b1d1159",
   "metadata": {},
   "outputs": [
    {
     "data": {
      "text/html": [
       "<div>\n",
       "<style scoped>\n",
       "    .dataframe tbody tr th:only-of-type {\n",
       "        vertical-align: middle;\n",
       "    }\n",
       "\n",
       "    .dataframe tbody tr th {\n",
       "        vertical-align: top;\n",
       "    }\n",
       "\n",
       "    .dataframe thead th {\n",
       "        text-align: right;\n",
       "    }\n",
       "</style>\n",
       "<table border=\"1\" class=\"dataframe\">\n",
       "  <thead>\n",
       "    <tr style=\"text-align: right;\">\n",
       "      <th></th>\n",
       "      <th>Ship Mode</th>\n",
       "      <th>Segment</th>\n",
       "      <th>City</th>\n",
       "      <th>State</th>\n",
       "      <th>Region</th>\n",
       "      <th>Category</th>\n",
       "      <th>Sub-Category</th>\n",
       "      <th>Sales</th>\n",
       "      <th>Quantity</th>\n",
       "      <th>Discount</th>\n",
       "      <th>Profit</th>\n",
       "    </tr>\n",
       "  </thead>\n",
       "  <tbody>\n",
       "    <tr>\n",
       "      <th>0</th>\n",
       "      <td>Second Class</td>\n",
       "      <td>Consumer</td>\n",
       "      <td>Henderson</td>\n",
       "      <td>Kentucky</td>\n",
       "      <td>South</td>\n",
       "      <td>Furniture</td>\n",
       "      <td>Bookcases</td>\n",
       "      <td>261.9600</td>\n",
       "      <td>2</td>\n",
       "      <td>0.00</td>\n",
       "      <td>41.9136</td>\n",
       "    </tr>\n",
       "    <tr>\n",
       "      <th>1</th>\n",
       "      <td>Second Class</td>\n",
       "      <td>Consumer</td>\n",
       "      <td>Henderson</td>\n",
       "      <td>Kentucky</td>\n",
       "      <td>South</td>\n",
       "      <td>Furniture</td>\n",
       "      <td>Chairs</td>\n",
       "      <td>731.9400</td>\n",
       "      <td>3</td>\n",
       "      <td>0.00</td>\n",
       "      <td>219.5820</td>\n",
       "    </tr>\n",
       "    <tr>\n",
       "      <th>2</th>\n",
       "      <td>Second Class</td>\n",
       "      <td>Corporate</td>\n",
       "      <td>Los Angeles</td>\n",
       "      <td>California</td>\n",
       "      <td>West</td>\n",
       "      <td>Office Supplies</td>\n",
       "      <td>Labels</td>\n",
       "      <td>14.6200</td>\n",
       "      <td>2</td>\n",
       "      <td>0.00</td>\n",
       "      <td>6.8714</td>\n",
       "    </tr>\n",
       "    <tr>\n",
       "      <th>3</th>\n",
       "      <td>Standard Class</td>\n",
       "      <td>Consumer</td>\n",
       "      <td>Fort Lauderdale</td>\n",
       "      <td>Florida</td>\n",
       "      <td>South</td>\n",
       "      <td>Furniture</td>\n",
       "      <td>Tables</td>\n",
       "      <td>957.5775</td>\n",
       "      <td>5</td>\n",
       "      <td>0.45</td>\n",
       "      <td>-383.0310</td>\n",
       "    </tr>\n",
       "    <tr>\n",
       "      <th>4</th>\n",
       "      <td>Standard Class</td>\n",
       "      <td>Consumer</td>\n",
       "      <td>Fort Lauderdale</td>\n",
       "      <td>Florida</td>\n",
       "      <td>South</td>\n",
       "      <td>Office Supplies</td>\n",
       "      <td>Storage</td>\n",
       "      <td>22.3680</td>\n",
       "      <td>2</td>\n",
       "      <td>0.20</td>\n",
       "      <td>2.5164</td>\n",
       "    </tr>\n",
       "  </tbody>\n",
       "</table>\n",
       "</div>"
      ],
      "text/plain": [
       "        Ship Mode    Segment             City       State Region  \\\n",
       "0    Second Class   Consumer        Henderson    Kentucky  South   \n",
       "1    Second Class   Consumer        Henderson    Kentucky  South   \n",
       "2    Second Class  Corporate      Los Angeles  California   West   \n",
       "3  Standard Class   Consumer  Fort Lauderdale     Florida  South   \n",
       "4  Standard Class   Consumer  Fort Lauderdale     Florida  South   \n",
       "\n",
       "          Category Sub-Category     Sales  Quantity  Discount    Profit  \n",
       "0        Furniture    Bookcases  261.9600         2      0.00   41.9136  \n",
       "1        Furniture       Chairs  731.9400         3      0.00  219.5820  \n",
       "2  Office Supplies       Labels   14.6200         2      0.00    6.8714  \n",
       "3        Furniture       Tables  957.5775         5      0.45 -383.0310  \n",
       "4  Office Supplies      Storage   22.3680         2      0.20    2.5164  "
      ]
     },
     "execution_count": 262,
     "metadata": {},
     "output_type": "execute_result"
    }
   ],
   "source": [
    "retail.head()"
   ]
  },
  {
   "cell_type": "markdown",
   "id": "c104b6ad-9afb-41af-ad8b-459473dfe4dc",
   "metadata": {},
   "source": [
    "**4.Checking for outliers**"
   ]
  },
  {
   "cell_type": "code",
   "execution_count": 265,
   "id": "3ece4b46-6068-4edb-8c0d-28b2ee2b9368",
   "metadata": {},
   "outputs": [
    {
     "data": {
      "image/png": "[encoded data removed]",
      "text/plain": [
       "<Figure size 1600x800 with 4 Axes>"
      ]
     },
     "metadata": {},
     "output_type": "display_data"
    }
   ],
   "source": [
    "#boxplot to check for outliers\n",
    "plt.figure(figsize=[16,8])\n",
    "sns.set_theme()\n",
    "plt.subplot(2,2,1)\n",
    "sns.boxplot(retail['Sales'])\n",
    "plt.xlabel('Sales', fontdict={'color':'red','fontsize':14})\n",
    "\n",
    "plt.subplot(2,2,2)\n",
    "sns.boxplot(retail['Quantity'])\n",
    "plt.xlabel('Quantity', fontdict={'color':'red','fontsize':14})\n",
    "\n",
    "plt.subplot(2,2,3)\n",
    "sns.boxplot(retail['Discount'])\n",
    "plt.xlabel('Discount', fontdict={'color':'red','fontsize':14})\n",
    "\n",
    "plt.subplot(2,2,4)\n",
    "sns.boxplot(retail['Profit'])\n",
    "plt.xlabel('Profit', fontdict={'color':'red','fontsize':14})\n",
    "\n",
    "plt.show()"
   ]
  },
  {
   "cell_type": "markdown",
   "id": "e1f23c3f-e47a-4a22-87db-edc1a2e96d93",
   "metadata": {},
   "source": [
    "INFERENCE: Large number of outliers present in sales and profit column"
   ]
  },
  {
   "cell_type": "code",
   "execution_count": 267,
   "id": "b799c9e2-f450-422a-958b-7e98231bee82",
   "metadata": {},
   "outputs": [
    {
     "data": {
      "text/html": [
       "<div>\n",
       "<style scoped>\n",
       "    .dataframe tbody tr th:only-of-type {\n",
       "        vertical-align: middle;\n",
       "    }\n",
       "\n",
       "    .dataframe tbody tr th {\n",
       "        vertical-align: top;\n",
       "    }\n",
       "\n",
       "    .dataframe thead th {\n",
       "        text-align: right;\n",
       "    }\n",
       "</style>\n",
       "<table border=\"1\" class=\"dataframe\">\n",
       "  <thead>\n",
       "    <tr style=\"text-align: right;\">\n",
       "      <th></th>\n",
       "      <th>Sales</th>\n",
       "      <th>Quantity</th>\n",
       "      <th>Discount</th>\n",
       "      <th>Profit</th>\n",
       "    </tr>\n",
       "  </thead>\n",
       "  <tbody>\n",
       "    <tr>\n",
       "      <th>count</th>\n",
       "      <td>9994.000000</td>\n",
       "      <td>9994.000000</td>\n",
       "      <td>9994.000000</td>\n",
       "      <td>9994.000000</td>\n",
       "    </tr>\n",
       "    <tr>\n",
       "      <th>mean</th>\n",
       "      <td>229.858001</td>\n",
       "      <td>3.789574</td>\n",
       "      <td>0.156203</td>\n",
       "      <td>28.656896</td>\n",
       "    </tr>\n",
       "    <tr>\n",
       "      <th>std</th>\n",
       "      <td>623.245101</td>\n",
       "      <td>2.225110</td>\n",
       "      <td>0.206452</td>\n",
       "      <td>234.260108</td>\n",
       "    </tr>\n",
       "    <tr>\n",
       "      <th>min</th>\n",
       "      <td>0.444000</td>\n",
       "      <td>1.000000</td>\n",
       "      <td>0.000000</td>\n",
       "      <td>-6599.978000</td>\n",
       "    </tr>\n",
       "    <tr>\n",
       "      <th>25%</th>\n",
       "      <td>17.280000</td>\n",
       "      <td>2.000000</td>\n",
       "      <td>0.000000</td>\n",
       "      <td>1.728750</td>\n",
       "    </tr>\n",
       "    <tr>\n",
       "      <th>50%</th>\n",
       "      <td>54.490000</td>\n",
       "      <td>3.000000</td>\n",
       "      <td>0.200000</td>\n",
       "      <td>8.666500</td>\n",
       "    </tr>\n",
       "    <tr>\n",
       "      <th>75%</th>\n",
       "      <td>209.940000</td>\n",
       "      <td>5.000000</td>\n",
       "      <td>0.200000</td>\n",
       "      <td>29.364000</td>\n",
       "    </tr>\n",
       "    <tr>\n",
       "      <th>80%</th>\n",
       "      <td>281.372000</td>\n",
       "      <td>5.000000</td>\n",
       "      <td>0.200000</td>\n",
       "      <td>41.038800</td>\n",
       "    </tr>\n",
       "    <tr>\n",
       "      <th>90%</th>\n",
       "      <td>572.706000</td>\n",
       "      <td>7.000000</td>\n",
       "      <td>0.400000</td>\n",
       "      <td>89.281620</td>\n",
       "    </tr>\n",
       "    <tr>\n",
       "      <th>95%</th>\n",
       "      <td>956.984245</td>\n",
       "      <td>8.000000</td>\n",
       "      <td>0.700000</td>\n",
       "      <td>168.470400</td>\n",
       "    </tr>\n",
       "    <tr>\n",
       "      <th>99%</th>\n",
       "      <td>2481.694600</td>\n",
       "      <td>11.000000</td>\n",
       "      <td>0.800000</td>\n",
       "      <td>580.657882</td>\n",
       "    </tr>\n",
       "    <tr>\n",
       "      <th>max</th>\n",
       "      <td>22638.480000</td>\n",
       "      <td>14.000000</td>\n",
       "      <td>0.800000</td>\n",
       "      <td>8399.976000</td>\n",
       "    </tr>\n",
       "  </tbody>\n",
       "</table>\n",
       "</div>"
      ],
      "text/plain": [
       "              Sales     Quantity     Discount       Profit\n",
       "count   9994.000000  9994.000000  9994.000000  9994.000000\n",
       "mean     229.858001     3.789574     0.156203    28.656896\n",
       "std      623.245101     2.225110     0.206452   234.260108\n",
       "min        0.444000     1.000000     0.000000 -6599.978000\n",
       "25%       17.280000     2.000000     0.000000     1.728750\n",
       "50%       54.490000     3.000000     0.200000     8.666500\n",
       "75%      209.940000     5.000000     0.200000    29.364000\n",
       "80%      281.372000     5.000000     0.200000    41.038800\n",
       "90%      572.706000     7.000000     0.400000    89.281620\n",
       "95%      956.984245     8.000000     0.700000   168.470400\n",
       "99%     2481.694600    11.000000     0.800000   580.657882\n",
       "max    22638.480000    14.000000     0.800000  8399.976000"
      ]
     },
     "execution_count": 267,
     "metadata": {},
     "output_type": "execute_result"
    }
   ],
   "source": [
    "#pattern across various percentile to check for outliers\n",
    "retail.describe(percentiles=[0.25,0.75,0.80,0.90,0.95,0.99])"
   ]
  },
  {
   "cell_type": "markdown",
   "id": "e69be73d-513e-4f87-b224-4eb71298a563",
   "metadata": {},
   "source": [
    "INFERENCE: Sales and Profit columns contain large number of outliers"
   ]
  },
  {
   "cell_type": "markdown",
   "id": "ba86966b-98c3-4113-b720-099903619791",
   "metadata": {},
   "source": [
    "**5. Data Visualization and Analysis**"
   ]
  },
  {
   "cell_type": "markdown",
   "id": "a958a411-95db-4516-8900-9bf2dfb21663",
   "metadata": {},
   "source": [
    "**_5.1 Univariate Analysis_**\n",
    "\n",
    "_Categorical Unordered Univariate Analysis_"
   ]
  },
  {
   "cell_type": "code",
   "execution_count": 273,
   "id": "f1254b1a-4ed3-4d2a-84f6-72a57b254478",
   "metadata": {},
   "outputs": [
    {
     "data": {
      "image/png": "[encoded data removed]",
      "text/plain": [
       "<Figure size 900x720 with 5 Axes>"
      ]
     },
     "metadata": {},
     "output_type": "display_data"
    }
   ],
   "source": [
    "#plotting the bar graph percentages of variouscolumn: Ship Mode, Segment, Region, Category, Sub-Category\n",
    "plt.figure(figsize=[15,12], dpi=60, facecolor='w', edgecolor='k')\n",
    "sns.set_theme()\n",
    "\n",
    "plt.subplot(3,2,1)\n",
    "retail['Ship Mode'].value_counts(normalize=True).plot.barh()\n",
    "plt.xlabel('Ship Mode', fontdict={'color':'red','size':14})\n",
    "\n",
    "plt.subplot(3,2,2)\n",
    "retail['Segment'].value_counts(normalize=True).plot.barh()\n",
    "plt.xlabel('Segment', fontdict={'color':'red','size':14})\n",
    "\n",
    "plt.subplot(3,2,3)\n",
    "retail['Region'].value_counts(normalize=True).plot.barh()\n",
    "plt.xlabel('Region', fontdict={'color':'red', 'size':14})\n",
    "\n",
    "plt.subplot(3,2,4)\n",
    "retail['Category'].value_counts(normalize=True).plot.barh()\n",
    "plt.xlabel('Category', fontdict={'color':'red','size':14})\n",
    "\n",
    "plt.subplot(3,2,5)\n",
    "retail['Sub-Category'].value_counts(normalize=True).plot.barh()\n",
    "plt.xlabel('Sub-Category', fontdict={'color':'red', 'size':14})\n",
    "\n",
    "plt.tight_layout()\n",
    "plt.show()\n",
    "\n",
    "\n",
    "\n",
    "\n"
   ]
  },
  {
   "cell_type": "markdown",
   "id": "4be1288c-e8a4-4158-b66f-1efc473d86f6",
   "metadata": {},
   "source": [
    "INFERENCES: 1)Same day transactions are the lowest whereas the standard class transactions are the highest.\n",
    "\n",
    "2)The consumer segment has the highest numbers\n",
    "\n",
    "3)West region has the highest transaction followed by East.\n",
    "\n",
    "4)The office supplies category shows the highest distribution.\n",
    "\n",
    "5)The binders sub-category has the highest proportion with the copiers category having the least."
   ]
  },
  {
   "cell_type": "code",
   "execution_count": 275,
   "id": "400a4935-675e-4975-9b5c-851b480a3108",
   "metadata": {},
   "outputs": [
    {
     "data": {
      "image/png": "[encoded data removed]",
      "text/plain": [
       "<Figure size 1600x700 with 1 Axes>"
      ]
     },
     "metadata": {},
     "output_type": "display_data"
    }
   ],
   "source": [
    "#plotting the bar diagram of percentage distribution of various states\n",
    "\n",
    "plt.figure(figsize=[16,7])\n",
    "sns.set_theme()\n",
    "\n",
    "retail['State'].value_counts(normalize=True).plot.bar()\n",
    "plt.xlabel('State', fontdict={'color':'red', 'size':20})\n",
    "\n",
    "plt.show()\n"
   ]
  },
  {
   "cell_type": "markdown",
   "id": "3f4158f3-3c9b-4e92-868d-e2eccd988b66",
   "metadata": {},
   "source": [
    "INFERENCE: California shows the highest transactions with New York, Texas, Pennsylvania showing moderate level transactions."
   ]
  },
  {
   "cell_type": "markdown",
   "id": "7e1f6cf5-c0cd-4e40-8fd2-ad3fdabc8143",
   "metadata": {},
   "source": [
    "**_5.2 Bivariate Analysis_**"
   ]
  },
  {
   "cell_type": "markdown",
   "id": "e217ee0a-dd3f-48a3-afd3-21eda12d5ad2",
   "metadata": {},
   "source": [
    "**i) Numeric-numeric Analysis**"
   ]
  },
  {
   "cell_type": "markdown",
   "id": "20006d3e-335c-4837-b032-87416d27937c",
   "metadata": {},
   "source": [
    "There are 3 ways to analyse the numeric-numeric data types simultaneously-\n",
    "\n",
    "a)Scatter plot\n",
    "\n",
    "b)Correlation Matrix\n",
    "\n",
    "c)Pair plot\n",
    "\n"
   ]
  },
  {
   "cell_type": "code",
   "execution_count": null,
   "id": "ad668ba3-2090-4cac-886a-6c5ef1dd1181",
   "metadata": {},
   "outputs": [],
   "source": [
    "#plot the pair plot of Sales, Quantity, Discount and Profit in retail dataframe\n",
    "import seaborn as sns\n",
    "import matplotlib.pyplot as plt\n",
    "sns.pairplot(retail[['Sales','Quantity','Discount','Profit']])\n",
    "plt.show()"
   ]
  },
  {
   "cell_type": "markdown",
   "id": "e241fc84-ca76-401b-af09-aec4357e7d65",
   "metadata": {},
   "source": [
    "**Inference:**"
   ]
  },
  {
   "cell_type": "markdown",
   "id": "efabc78f-fab6-4ec8-b6d0-a55298b61ffc",
   "metadata": {},
   "source": [
    "1) No patterns for Quantity over Profit and Sales but at 5 we see highest Sales on Profit at Quantity\n",
    "\n",
    "2) Discount and Profit are highly correlated in negative direction i.e, these are inversely proportional so, if discount for a particular sale increases then this will decrease the profit\n",
    "\n",
    "3) Highest Sales at 50% discount appears to be an outlier\n",
    "\n",
    "   "
   ]
  },
  {
   "cell_type": "code",
   "execution_count": null,
   "id": "e508a30f-7f43-4e80-a8b4-c22bf80482d6",
   "metadata": {},
   "outputs": [],
   "source": [
    "#Visualizing trend of Sales, Profit, Discount and Quantity using line graph\n",
    "#trend of profit across various discount\n",
    "plt.figure(figsize=(10,5))\n",
    "plt.title('Discount vs Profit\\n', fontdict={'color':'red','size':15})\n",
    "sns.lineplot(x='Discount',y='Profit', data=retail , color='r')\n",
    "plt.show()"
   ]
  },
  {
   "cell_type": "markdown",
   "id": "255f8bbc-06b3-4a83-91c1-828d0b35518b",
   "metadata": {},
   "source": [
    "INFERENCE: 1. For minimum discount profit was good but as discount increases profit decreases\n",
    "\n",
    "2) Profit is lowest at 50% discount\n"
   ]
  },
  {
   "cell_type": "code",
   "execution_count": null,
   "id": "8716f1e3-ab1a-4131-b6ec-7724940c76e1",
   "metadata": {},
   "outputs": [],
   "source": [
    "#trend of sales across various discount\n",
    "plt.figure(figsize=(10,5))\n",
    "plt.title('Discount vs Sales\\n', fontdict={'color':'red','size':15})\n",
    "sns.lineplot(x='Discount', y='Sales', data=retail, color='r')\n",
    "plt.show()"
   ]
  },
  {
   "cell_type": "markdown",
   "id": "349fe251-1e26-47a6-9989-dd14446c7d7e",
   "metadata": {},
   "source": [
    "INFERENCE: At 50% discount there is peak sale and beyond 50% sales fall which might occur due to fall in product quality due to a higher rate of discount"
   ]
  },
  {
   "cell_type": "markdown",
   "id": "3e829dde-55a3-43f7-aa99-2e59564de18a",
   "metadata": {},
   "source": [
    "**Numeric-Numeric Analysis using Correlation Heat Map**"
   ]
  },
  {
   "cell_type": "code",
   "execution_count": null,
   "id": "7d2cbdc9-bfce-4e72-82e8-af4cff192396",
   "metadata": {},
   "outputs": [],
   "source": [
    "#creating a matrix using Sales, quantity, discount,and profit in retail dataframeas rows and columns\n",
    "matrix=retail[['Sales','Quantity','Discount','Profit']].corr()\n",
    "matrix"
   ]
  },
  {
   "cell_type": "code",
   "execution_count": null,
   "id": "1e53a2f5-03e4-4bc1-a859-1aef2779fa2b",
   "metadata": {},
   "outputs": [],
   "source": [
    "#heatmap of above correlation matrix\n",
    "plt.figure(figsize=[10,6])\n",
    "plt.title('Correlation across various columns\\n', fontdict={'color':'black','size':18})\n",
    "sns.heatmap(matrix, cmap='Greens',annot=True)\n",
    "plt.show()"
   ]
  },
  {
   "cell_type": "markdown",
   "id": "b2f39726-40fb-4f66-9596-f3835231b58a",
   "metadata": {},
   "source": [
    "INFERENCE:a)Profit and Sales have the highest correlation of 0.48\n",
    "\n",
    "b)Profit and Discount have a negative correlation of -0.22"
   ]
  },
  {
   "cell_type": "markdown",
   "id": "1f272613-0abb-45b3-a2e3-814a6ef89d6d",
   "metadata": {},
   "source": [
    "**_b. Numerical Categorical Analysis_**"
   ]
  },
  {
   "cell_type": "markdown",
   "id": "8ea693fa-cc29-4a30-b174-ea879b995f27",
   "metadata": {},
   "source": [
    "_Ship Mode vs Profit & Ship Mode vs Sales_"
   ]
  },
  {
   "cell_type": "code",
   "execution_count": null,
   "id": "35b36d49-aefe-4f8a-a5d7-dfd41778a870",
   "metadata": {},
   "outputs": [],
   "source": [
    "#groupby the ship mode to find the mean of the profit and sales separately\n",
    "retail.groupby('Ship Mode')[['Profit','Sales']].mean()"
   ]
  },
  {
   "cell_type": "code",
   "execution_count": null,
   "id": "7b6906a7-1b4d-44f0-b2e0-e0f1cb420fbb",
   "metadata": {},
   "outputs": [],
   "source": [
    "#bar graph of profit for ship mode categories\n",
    "plt.figure(figsize=[15,15])\n",
    "sns.set_theme()\n",
    "plt.subplot(2,2,1)\n",
    "sns.barplot(x='Ship Mode', y='Profit', data=retail)\n",
    "plt.title('Ship Mode vs Avg Profit\\n', fontdict={'color':'red','size':15})\n",
    "plt.xlabel('Ship Mode', fontdict={'color':'red','size':15})\n",
    "plt.ylabel('Profit\\n', fontdict={'color':'red','size':14})\n",
    "\n",
    "#bar plot of sales for ship mode categories\n",
    "plt.subplot(2,2,2)\n",
    "sns.barplot(x='Ship Mode', y='Sales', data=retail)\n",
    "plt.title('Ship Mode vs Avg Sales\\n', fontdict={'color':'red','size':15})\n",
    "plt.xlabel('Ship Mode', fontdict={'color':'red','size':14})\n",
    "plt.ylabel('Sales', fontdict={'color':'red','size':14})\n",
    "plt.show()\n"
   ]
  },
  {
   "cell_type": "markdown",
   "id": "a7e79c72-2cd3-4ca8-8f2a-7e35975255ae",
   "metadata": {},
   "source": [
    "INFERENCE: 1. First Class shipment mode is making highest average profit.\n",
    "\n",
    "    2. Same Day Shipment Mode is making highest average sales.\n",
    "\n",
    "    3.Standard Class shipment has less than average profit and sales."
   ]
  },
  {
   "cell_type": "markdown",
   "id": "f9c772ab-6ae3-4db0-a596-cfd4fd636319",
   "metadata": {},
   "source": [
    "**Visualizing Shipment Mode wise Total Profit or Sales**"
   ]
  },
  {
   "cell_type": "code",
   "execution_count": null,
   "id": "70ecf7de-5f63-430a-8450-0cc8aee0f8ba",
   "metadata": {},
   "outputs": [],
   "source": [
    "#bar graph of total profit for ship mode categories\n",
    "plt.figure(figsize=[15,15])\n",
    "sns.set_theme()\n",
    "plt.subplot(2,2,1)\n",
    "sns.barplot(x='Ship Mode', y='Profit',data=retail,estimator = sum)\n",
    "plt.title('Ship Mode vs Total Profit\\n', fontdict={'color':'red', 'size':15})\n",
    "plt.xlabel('Ship Mode', fontdict={'color':'red', 'size':14})\n",
    "plt.ylabel('Total Profit\\n', fontdict={'color':'red', 'size':14})\n",
    "\n",
    "#bar graph of total sales for ship mode categories\n",
    "plt.subplot(2,2,2)\n",
    "sns.barplot(x='Ship Mode', y='Sales',data=retail,estimator = sum)\n",
    "plt.title('Ship Mode vs Total Sales\\n', fontdict={'color':'red','size':14})\n",
    "plt.xlabel('Ship Mode', fontdict={'color':'red','size':14})\n",
    "plt.ylabel('Total Sales', fontdict={'color':'red','size':14})\n",
    "plt.show()"
   ]
  },
  {
   "cell_type": "markdown",
   "id": "d016c583-08dc-4650-ba08-260c13b7b63b",
   "metadata": {},
   "source": [
    "INFERENCE:\n",
    "1)Though average profit of same day shipment mode is more,it is making less overall profit and sale for business.Less customers might prefer same day shipment mode due to certain reasons. Same day shipment mode needs to be marketed more.\n",
    "\n",
    "2)Average profit for Standard class shipment mode is less than total profit for standard class leading to the conclusion that more customers prefer it."
   ]
  },
  {
   "cell_type": "markdown",
   "id": "c170c338-4a6a-477e-ba01-115b6544e99a",
   "metadata": {},
   "source": [
    "**Segment vs Profit and Segment vs Sales**"
   ]
  },
  {
   "cell_type": "code",
   "execution_count": null,
   "id": "65815eb9-4551-4745-8019-6db096c7471e",
   "metadata": {},
   "outputs": [],
   "source": [
    "#groupby the segment to find the mean of the profit and sales respectively\n",
    "retail.groupby('Segment')[['Profit','Sales']].mean().round(2)"
   ]
  },
  {
   "cell_type": "code",
   "execution_count": null,
   "id": "55c06da1-4b85-480b-ad2f-0f565b895c2d",
   "metadata": {},
   "outputs": [],
   "source": [
    "#consumer segment having highest transaction\n",
    "#bar plot of profit for various segments\n",
    "plt.figure(figsize=[15,5])\n",
    "sns.set_theme()\n",
    "plt.subplot(1,2,1)\n",
    "sns.barplot(x='Segment',y='Profit',data=retail)\n",
    "plt.title('Segment vs Total Profit\\n', fontdict={'color':'red','size':15})\n",
    "plt.xlabel('Segment', fontdict={'color':'red','size':14})\n",
    "plt.ylabel('Total Profit\\n', fontdict={'color':'red','size':14})\n",
    "\n",
    "#bar plot of sales for various segments\n",
    "plt.subplot(1,2,2)\n",
    "sns.barplot(x='Segment',y='Sales',data=retail,estimator=sum)\n",
    "plt.title('Segment vs Total Sales\\n', fontdict={'color':'red','size':15})\n",
    "plt.xlabel('Segment', fontdict={'color':'red','size':14})\n",
    "plt.ylabel('Total Sales', fontdict={'color':'red', 'size':14})\n",
    "plt.show()\n"
   ]
  },
  {
   "cell_type": "markdown",
   "id": "e28cd0d8-c4eb-451c-ae7f-c8cf34dcf1ee",
   "metadata": {},
   "source": [
    "INFERENCE: Total profit of the home office segment is the highest whereas the total sales of the consumer segment is the highest. Home office segment despite having lowest sales show highest profit, hence this segment needs to be marketed more."
   ]
  },
  {
   "cell_type": "markdown",
   "id": "a6b892d4-033c-4a0f-ac32-55c1fa399e32",
   "metadata": {},
   "source": [
    "**State vs Profit and State vs Sales**"
   ]
  },
  {
   "cell_type": "code",
   "execution_count": null,
   "id": "5cb14aad-1ec8-4ca9-b375-cda0b22e1578",
   "metadata": {},
   "outputs": [],
   "source": [
    "#groupby state to find mean of profit and sales respectively\n",
    "retail.groupby('State')[['Profit','Sales']].mean()"
   ]
  },
  {
   "cell_type": "code",
   "execution_count": null,
   "id": "98feef4f-9ab1-4512-9afb-c445377b16e4",
   "metadata": {},
   "outputs": [],
   "source": [
    "#bar plot of sales across various states\n",
    "plt.figure(figsize=[16,7])\n",
    "sns.set_theme()\n",
    "\n",
    "sns.barplot(x='State', y='Sales', data=retail)\n",
    "plt.title('State vs Avg Sales', fontdict={'color':'red','size':20})\n",
    "plt.xticks(rotation=90)\n",
    "plt.xlabel('State', fontdict={'color':'red','size':18})\n",
    "plt.ylabel('Sales\\n', fontdict={'color':'red', 'size':18})\n",
    "plt.show()"
   ]
  },
  {
   "cell_type": "code",
   "execution_count": null,
   "id": "d1260b67-d379-4ec8-aba3-7350ddd09081",
   "metadata": {},
   "outputs": [],
   "source": [
    "#bar plot of sales across various states\n",
    "plt.figure(figsize=[16,7])\n",
    "sns.set_theme()\n",
    "\n",
    "sns.barplot(x='State', y='Sales', data=retail)\n",
    "plt.title('State vs Avg Sales', fontdict={'color':'red','size':20})\n",
    "plt.xticks(rotation=90)\n",
    "plt.xlabel('State', fontdict={'color':'red','size':18})\n",
    "plt.ylabel('Sales\\n', fontdict={'color':'red', 'size':18})\n",
    "plt.show()"
   ]
  },
  {
   "cell_type": "markdown",
   "id": "e4f68816-236c-4255-9d4c-5e24ae3d13e7",
   "metadata": {},
   "source": [
    "INFERENCE: Vermont and Wyoming with the highest sales."
   ]
  },
  {
   "cell_type": "code",
   "execution_count": null,
   "id": "c4161fa6-ae1d-42a5-8fe7-1b3da0e2b300",
   "metadata": {},
   "outputs": [],
   "source": [
    "#bar plot of profit across various states\n",
    "plt.figure(figsize=[16,7])\n",
    "sns.set_theme()\n",
    "\n",
    "sns.barplot(x='State', y='Profit', data=retail)\n",
    "plt.title('State vs Avg Profit', fontdict={'color':'red','size':20})\n",
    "plt.xticks(rotation=90)\n",
    "plt.xlabel('State', fontdict={'color':'red','size':18})\n",
    "plt.ylabel('Avg Profit\\n', fontdict={'color':'red', 'size':18})\n",
    "plt.show()"
   ]
  },
  {
   "cell_type": "markdown",
   "id": "ea476e34-c0bb-43f9-b491-47ac47485081",
   "metadata": {},
   "source": [
    "INFERENCE: Vermont has the highest profit. California,South Carolina,Iowa,New Mexico,Kansas,South Dakota, North Dakota having very less profits.Florida,North Carolina,Texas,Pennsylvania,Illinois,Oregon,Colorado,Ohio showing negative profits."
   ]
  },
  {
   "cell_type": "markdown",
   "id": "376a963d-cb20-402d-be83-556bae2126d2",
   "metadata": {},
   "source": [
    "California has less average profit but more transactions than other states"
   ]
  },
  {
   "cell_type": "code",
   "execution_count": null,
   "id": "0956cb40-b7e6-449b-b667-ecdc199b16f7",
   "metadata": {},
   "outputs": [],
   "source": [
    "#bar plot of total profit across various cities\n",
    "plt.figure(figsize=[16,7])\n",
    "sns.set_theme()\n",
    "sns.barplot(x='State',y='Profit',data=retail,estimator=sum)\n",
    "plt.title('State vs Total Profit',fontdict={'color':'red','size':20})\n",
    "plt.xticks(rotation=90)\n",
    "plt.xlabel('State',fontdict={'color':'red','size':18})\n",
    "plt.ylabel('Profit\\n',fontdict={'color':'red','size':18})\n",
    "plt.show()"
   ]
  },
  {
   "cell_type": "markdown",
   "id": "909fe141-6e5f-45ea-b115-b4903a301414",
   "metadata": {},
   "source": [
    "INFERENCE: California and New York have the highest profit. Texas has highest negative profit"
   ]
  },
  {
   "cell_type": "markdown",
   "id": "2e07264d-f71d-4607-935a-4dda6ee2a403",
   "metadata": {},
   "source": [
    "**Region vs Profit and Region vs Sales**"
   ]
  },
  {
   "cell_type": "code",
   "execution_count": null,
   "id": "c8499f89-8d30-4bef-94a3-2ef45a38a1b5",
   "metadata": {},
   "outputs": [],
   "source": [
    "#groupby the region to find mean of profit and sales resp\n",
    "retail.groupby('Region')[['Profit','Sales']].mean()"
   ]
  },
  {
   "cell_type": "code",
   "execution_count": null,
   "id": "ca4135ee-2846-45a7-9600-e35de170a259",
   "metadata": {},
   "outputs": [],
   "source": [
    "#bar plot of profit for different regions\n",
    "plt.figure(figsize=[15,5])\n",
    "sns.set_theme()\n",
    "plt.subplot(1,2,1)\n",
    "sns.barplot(x='Region', y='Profit', data=retail)\n",
    "plt.title('Region vs Avg Profit', fontdict={'color':'red','size':15})\n",
    "plt.xlabel('Region', fontdict={'color':'red','size':14})\n",
    "plt.ylabel('Profit\\n', fontdict={'color':'red','size':14})\n",
    "\n",
    "#bar plot of sales for diff regions\n",
    "plt.subplot(1,2,2)\n",
    "sns.barplot(x='Region', y='Sales', data=retail)\n",
    "plt.title('Region vs Avg Sales\\n', fontdict={'color':'red','size':15})\n",
    "plt.xlabel('Region', fontdict={'color':'red','size':14})\n",
    "plt.ylabel('Sales', fontdict={'color':'red','size':14})\n",
    "plt.show()\n"
   ]
  },
  {
   "cell_type": "markdown",
   "id": "43f938d3-d250-4d97-a0f0-2725c71dd559",
   "metadata": {},
   "source": [
    "INFERENCE: Highest profit in west and East Region. South and East have the highest sales. Central region despite having decent sales shows the lowest profit.Profit needs to be increased in central region."
   ]
  },
  {
   "cell_type": "code",
   "execution_count": null,
   "id": "ac8462d0-029f-43d7-8140-c19461654476",
   "metadata": {},
   "outputs": [],
   "source": [
    "#bar plot of profit for different regions\n",
    "plt.figure(figsize=[15,5])\n",
    "sns.set_theme()\n",
    "plt.subplot(1,2,1)\n",
    "sns.barplot(x='Region', y='Profit', data=retail)\n",
    "plt.title('Region vs Total Profit', fontdict={'color':'red','size':15})\n",
    "plt.xlabel('Region', fontdict={'color':'red','size':14})\n",
    "plt.ylabel('Profit\\n', fontdict={'color':'red','size':14})\n",
    "\n",
    "#bar plot of sales for diff regions\n",
    "plt.subplot(1,2,2)\n",
    "sns.barplot(x='Region', y='Sales', data=retail)\n",
    "plt.title('Region vs Total Sales\\n', fontdict={'color':'red','size':15})\n",
    "plt.xlabel('Region', fontdict={'color':'red','size':14})\n",
    "plt.ylabel('Sales', fontdict={'color':'red','size':14})\n",
    "plt.show()\n"
   ]
  },
  {
   "cell_type": "markdown",
   "id": "95712558-8ae5-4321-9bb6-4311e2982ec1",
   "metadata": {},
   "source": [
    "INFERENCE: Overall sales more in west region. less in south region. central region has high sales but low profit."
   ]
  },
  {
   "cell_type": "markdown",
   "id": "921552bb-0462-4bc1-babb-bf6a2e30a192",
   "metadata": {},
   "source": [
    "**Category vs Profit and Category vs Sales**"
   ]
  },
  {
   "cell_type": "code",
   "execution_count": null,
   "id": "ffb0e2ef-2f82-4961-81b0-efed3ac62372",
   "metadata": {},
   "outputs": [],
   "source": [
    "retail.groupby('Category')[['Profit','Sales']].mean()"
   ]
  },
  {
   "cell_type": "code",
   "execution_count": null,
   "id": "41c0478c-b9db-4bc1-85ad-850952aa496a",
   "metadata": {},
   "outputs": [],
   "source": [
    "#bar plot of profit for different categories\n",
    "plt.figure(figsize=[15,5])\n",
    "sns.set_theme()\n",
    "plt.subplot(1,2,1)\n",
    "sns.barplot(x='Category', y='Profit', data=retail)\n",
    "plt.title('Category vs Avg Profit', fontdict={'color':'red','size':15})\n",
    "plt.xlabel('Category', fontdict={'color':'red','size':14})\n",
    "plt.ylabel('Profit\\n', fontdict={'color':'red','size':14})\n",
    "\n",
    "#bar plot of sales for diff categories\n",
    "plt.subplot(1,2,2)\n",
    "sns.barplot(x='Category', y='Sales', data=retail)\n",
    "plt.title('Category vs Avg Sales', fontdict={'color':'red','size':15})\n",
    "plt.xlabel('Category', fontdict={'color':'red','size':14})\n",
    "plt.ylabel('Sales', fontdict={'color':'red','size':14})\n",
    "plt.show()\n"
   ]
  },
  {
   "cell_type": "code",
   "execution_count": null,
   "id": "e63fde3a-53d2-45b7-a96d-09a18c8a4a29",
   "metadata": {},
   "outputs": [],
   "source": [
    "#bar plot of profit for different categories\n",
    "plt.figure(figsize=[15,5])\n",
    "sns.set_theme()\n",
    "plt.subplot(1,2,1)\n",
    "sns.barplot(x='Category', y='Profit', data=retail)\n",
    "plt.title('Category vs Total Profit', fontdict={'color':'red','size':15})\n",
    "plt.xlabel('Category', fontdict={'color':'red','size':14})\n",
    "plt.ylabel('Total Profit\\n', fontdict={'color':'red','size':14})\n",
    "\n",
    "#bar plot of sales for diff categories\n",
    "plt.subplot(1,2,2)\n",
    "sns.barplot(x='Category', y='Sales', data=retail)\n",
    "plt.title('Category vs Total Sales', fontdict={'color':'red','size':15})\n",
    "plt.xlabel('Category', fontdict={'color':'red','size':14})\n",
    "plt.ylabel('Total Sales', fontdict={'color':'red','size':14})\n",
    "plt.show()\n"
   ]
  },
  {
   "cell_type": "markdown",
   "id": "b49c6239-6a06-4f11-bf08-3c178e21d521",
   "metadata": {},
   "source": [
    "INFERENCE: 1)Products from Technology category making the highest sales and profit and hence having good margin.\n",
    "\n",
    "    2) Office Supplies category having low sales and low profit.\n",
    "\n",
    "3)Products from furniture category having high sales but low profit.It might be due to discounts."
   ]
  },
  {
   "cell_type": "code",
   "execution_count": null,
   "id": "44e2727e-4971-4256-a242-b7486aa8d0b1",
   "metadata": {},
   "outputs": [],
   "source": [
    "#plotting category with avg discount\n",
    "sns.barplot(x='Category',y='Discount',data=retail)\n",
    "plt.title('Category vs Discount', fontdict={'color':'red','size':15})\n",
    "plt.xlabel('Category', fontdict={'color':'red','size':14})\n",
    "plt.ylabel('Discount', fontdict={'color':'red','size':14})\n",
    "plt.show()"
   ]
  },
  {
   "cell_type": "markdown",
   "id": "2ab1104a-980c-42c3-8072-f489762fcc25",
   "metadata": {},
   "source": [
    "INFERENCE: Products in the Furniture Category are having huge discounts and hence there is huge sell in Furniture products but least profit."
   ]
  },
  {
   "cell_type": "markdown",
   "id": "dc4970c1-a433-4884-9871-6a561d2eb450",
   "metadata": {},
   "source": [
    "**Sub-Category vs Profit and Sub-Category vs Sales**"
   ]
  },
  {
   "cell_type": "code",
   "execution_count": null,
   "id": "e054603a-80da-45dd-a3e2-46dabfec2d3e",
   "metadata": {},
   "outputs": [],
   "source": [
    "#groupby the sub-category to find the mean of the profit and sales resp.\n",
    "retail.groupby('Sub-Category')[['Profit','Sales','Discount']].mean()"
   ]
  },
  {
   "cell_type": "code",
   "execution_count": null,
   "id": "76415732-3765-4b26-8a1c-52c441707887",
   "metadata": {},
   "outputs": [],
   "source": [
    "#bar plot of profit for different product sub-categories\n",
    "plt.figure(figsize=[20,15])\n",
    "\n",
    "plt.subplot(2,2,1)\n",
    "sns.barplot(x='Sub-Category', y='Profit', data=retail)\n",
    "plt.title('Sub-Category vs Avg Profit', fontdict={'color':'red','size':16})\n",
    "plt.xlabel('Sub-Category', fontdict={'color':'red','size':15})\n",
    "plt.ylabel('Profit\\n', fontdict={'color':'red','size':15})\n",
    "plt.xticks(rotation=90)\n",
    "\n",
    "#bar plot of sales for diff sub-categories\n",
    "plt.subplot(2,2,2)\n",
    "sns.barplot(x='Sub-Category', y='Sales', data=retail)\n",
    "plt.title('Sub-Category vs Avg Sales', fontdict={'color':'red','size':16})\n",
    "plt.xlabel('Sub-Category', fontdict={'color':'red','size':15})\n",
    "plt.ylabel('Sales', fontdict={'color':'red','size':15})\n",
    "plt.xticks(rotation=90)\n",
    "plt.show()\n"
   ]
  },
  {
   "cell_type": "markdown",
   "id": "01e1a6a8-6527-4bf6-ba93-b6eb577778bc",
   "metadata": {},
   "source": [
    "INFERENCE: 1. Copiers are both selling well and their profit is also remarkable.Hence market for Copiers are good.\n",
    "\n",
    "2. Bookcases, Labels,Tables,Furnishings, Art, Binders, Fasteners, Supplies are the product categories with very low or negative profit.\n",
    "\n",
    "3. Labels, Art, Fasteners, Paper are product categories having both less sales and profit."
   ]
  },
  {
   "cell_type": "markdown",
   "id": "382bbd4e-9a03-465c-8f24-3b6f1bd9e411",
   "metadata": {},
   "source": [
    "Though Binders has less average profit but in count plot Binders has highest number of transactions."
   ]
  },
  {
   "cell_type": "code",
   "execution_count": null,
   "id": "2e0812d1-a6af-4f81-8ec0-4828388785c4",
   "metadata": {},
   "outputs": [],
   "source": [
    "#plot the bar plot of total profit for different product sub-category\n",
    "plt.figure(figsize=[20,24])\n",
    "\n",
    "plt.subplot(2,2,1)\n",
    "sns.barplot(x='Sub-Category',y='Profit',data=retail,estimator=sum)\n",
    "plt.title('Sub-Category vs Total Profit', fontdict={'color':'red','size':16})\n",
    "plt.xlabel('Sub-Category', fontdict={'color':'red','size':15})\n",
    "plt.ylabel('Profit\\n', fontdict={'color':'red','size':15})\n",
    "plt.xticks(rotation=90)\n",
    "\n",
    "#bar plot of total sales for different product sub-category\n",
    "plt.subplot(2,2,2)\n",
    "sns.barplot(x='Sub-Category',y='Sales',data=retail,estimator=sum)\n",
    "plt.title('Sub-Category vs Total Sales', fontdict={'color':'red','size':16})\n",
    "plt.xlabel('Sub-Category', fontdict={'color':'red','size':15})\n",
    "plt.ylabel('Sales',fontdict={'color':'red','size':15})\n",
    "plt.xticks(rotation=90)\n",
    "\n",
    "plt.subplot(2,2,3)\n",
    "sns.barplot(x='Sub-Category',y='Discount', data=retail)\n",
    "plt.title('Sub-Category vs Discount', fontdict={'color':'red','size':16})\n",
    "plt.xlabel('Sub-Category',fontdict={'color':'red','size':15})\n",
    "plt.ylabel('Discount', fontdict={'color':'red','size':15})\n",
    "plt.xticks(rotation=90)\n",
    "plt.show()\n",
    "\n",
    "\n"
   ]
  },
  {
   "cell_type": "markdown",
   "id": "14642c78-3547-444f-b1c4-4e0f0be83233",
   "metadata": {},
   "source": [
    "INFERENCE: 1)Binders despite having less average profit has good total profit as Binders has a good sales number. This needs to be further explored at the geographic level.Binders also has the highest discount so it might also have high loss for some pattern.\n",
    "\n",
    "2) Sub-Categories like Bookcases, Tables, Machine have less profit or loss despite having good sales.This is because of high Discount.So we should focus on the discount provided to these sub-categories.\n",
    "\n",
    "3) Other Sub-Categories like Labels, Art, Fasteners, Paper,  Supplies, Envelope have less profit due to less sales. So such Sub-Categories needs to be looked into.\n",
    "                                                                                                                                                                                                                                                 \n",
    "                                                                                                                                                                                                                                                "
   ]
  },
  {
   "cell_type": "markdown",
   "id": "7d188560-a912-438a-b9a5-cb6cc067e91a",
   "metadata": {},
   "source": [
    "**City wise Profit Exploration**"
   ]
  },
  {
   "cell_type": "markdown",
   "id": "59c7c2b6-956a-4715-ba62-015d340cc70b",
   "metadata": {},
   "source": [
    "The problem statement requires us to find the areas making less profit. So, by analyzing we have found that Sub-Categories Bookcases, Tables, Machine, Labels, Art, Fasteners, Paper, Supplies, Envelopes, are making either less profit or loss. Let us explore the data city wise in detail to know which cities are making loss or less profit for these Sub-Categories."
   ]
  },
  {
   "cell_type": "markdown",
   "id": "84f157ff-ea04-44e2-a325-f81e0c660902",
   "metadata": {},
   "source": [
    "**Exploring Sub-Category vs Cities where it is sold**"
   ]
  },
  {
   "cell_type": "code",
   "execution_count": null,
   "id": "39d31af0-8d40-4520-90f5-7e547a246b91",
   "metadata": {},
   "outputs": [],
   "source": [
    "%matplotlib inline"
   ]
  },
  {
   "cell_type": "code",
   "execution_count": null,
   "id": "91e92421-d14e-4ebc-b6ac-4ab0f92f0fbf",
   "metadata": {},
   "outputs": [],
   "source": [
    "# Group the data by 'Sub-Category' and 'City' and count the number of sales\n",
    "grouped_data = retail.groupby(['Sub-Category', 'City']).size().reset_index(name='Counts')\n",
    "\n",
    "# Display the grouped data\n",
    "grouped_data.head()"
   ]
  },
  {
   "cell_type": "code",
   "execution_count": null,
   "id": "eb1a9928-0e19-4964-876e-1afc53b6a350",
   "metadata": {},
   "outputs": [],
   "source": [
    "# Create a pivot table\n",
    "pivot_data = grouped_data.pivot(index='City', columns='Sub-Category', values='Counts')\n",
    "\n",
    "# Plotting the heatmap\n",
    "plt.figure(figsize=(14, 8))\n",
    "sns.heatmap(pivot_data, annot=True, fmt=\".2f\", cmap=\"coolwarm\", linewidths= 0.5, annot_kws={\"fontsize\":12})\n",
    "\n",
    "plt.title('Heatmap of Sub-Categories Sold Across Cities', fontsize=16)\n",
    "plt.xlabel('Sub-Category', fontsize=14)\n",
    "plt.ylabel('City', fontsize=14)\n",
    "plt.xticks(rotation=90)\n",
    "plt.show()"
   ]
  },
  {
   "cell_type": "markdown",
   "id": "98770dee-6341-4e5c-b8d1-9a9f50e67b98",
   "metadata": {},
   "source": [
    "INFERENCE:The heatmap shows a varied distribution of sales across different cities and sub-categories. Some cities have higher overall sales compared to others, and certain sub-categories consistently perform better in terms of sales.\n",
    "Cities like Santa Clara seem to have significantly higher sales across multiple sub-categories, indicating a potentially larger market or higher consumer spending. On the other hand, cities like Round Rock have relatively lower sales across most sub-categories.\n"
   ]
  },
  {
   "cell_type": "code",
   "execution_count": null,
   "id": "77e91bc9-dafb-4c6c-9a96-4a6d341c6373",
   "metadata": {},
   "outputs": [],
   "source": [
    "# Filter the dataset to include only the sub-categories making less profit or loss\n",
    "subcategories_of_interest = ['Bookcases', 'Tables', 'Machines', 'Labels', 'Art', \n",
    "                             'Fasteners', 'Paper', 'Supplies', 'Envelopes']\n",
    "\n",
    "filtered_df = retail[retail['Sub-Category'].isin(subcategories_of_interest)]\n",
    "\n",
    "# Group by City and Sub-Category to get the sum of profits\n",
    "citywise_profit = filtered_df.groupby(['City', 'Sub-Category'])['Profit'].sum().unstack(fill_value=0)\n",
    "\n",
    "# Sort by city with the most loss (negative profit) for easier analysis\n",
    "citywise_profit = citywise_profit.sort_values(by=subcategories_of_interest, ascending=True)\n",
    "\n",
    "citywise_profit.head(60)  # Displaying top 60 rows to get a sense of the data"
   ]
  },
  {
   "cell_type": "markdown",
   "id": "6a7fe879-1976-4b4a-8607-178fd5242fa7",
   "metadata": {},
   "source": [
    "INFERENCE: 1)Philadelphia experiencing significant losses across multiple Sub-Categories\n",
    "\n",
    "2) Houston has substantial losses in Bookcases, Machines, and Tables. Though Paper here shows positive profit.\n",
    "\n",
    "3) Phoenix, Aurora shows significant losses in tables.\n",
    "\n",
    "4) Springfield shows losses in Machines and Bookcases but makes profit in Tables."
   ]
  },
  {
   "cell_type": "markdown",
   "id": "a9e29b57-d9f9-40bf-83bd-396ab99b2c49",
   "metadata": {},
   "source": [
    "**_CONCLUSION_**"
   ]
  },
  {
   "cell_type": "markdown",
   "id": "e8c37c0d-a726-4cc3-a77a-50a23fd2d245",
   "metadata": {},
   "source": [
    "•The Data is biased towards United States and hence we can drop the Country column as it will not aid in the analysis.\n",
    "\n",
    "• As Postal Code is by region we have dropped the Postal Code to avoid redundant features during further analysis as Columns Region, City, State also gave same insights.\n",
    "\n",
    "•Due to absence of product column we have considered Sub-Category column in our analysis for data granularity.\n",
    "\n",
    "•Sales and Profit columns contain large number of outliers.The outliers were not treated as these extreme points might have come from some special sales days, festival offers, off-season, high discounts etc."
   ]
  },
  {
   "cell_type": "markdown",
   "id": "57a44385-26a1-4166-b6cf-ee8be084cf19",
   "metadata": {},
   "source": [
    "**Univariate Analysis**"
   ]
  },
  {
   "cell_type": "markdown",
   "id": "56795b99-47d2-4074-9c5e-06a8800d133b",
   "metadata": {},
   "source": [
    "1)Same day transactions are the lowest whereas the standard class transactions are the highest.\n",
    "\n",
    "2)The consumer segment has the highest numbers\n",
    "\n",
    "3)West region has the highest transaction followed by East.\n",
    "\n",
    "4)The office supplies category shows the highest distribution.\n",
    "\n",
    "5)The binders sub-category has the highest proportion with the copiers category having the least."
   ]
  },
  {
   "cell_type": "markdown",
   "id": "d8921808-f146-4c28-a7d5-7fb3da2ef06b",
   "metadata": {},
   "source": [
    "**Bivariate Analysis**"
   ]
  },
  {
   "cell_type": "markdown",
   "id": "55481e72-e601-4b2d-a476-408b0d73f44f",
   "metadata": {},
   "source": [
    "**_Numerical-Numerical Analysis_**"
   ]
  },
  {
   "cell_type": "markdown",
   "id": "c599a76d-7e5b-4844-930c-cae6b87b66e4",
   "metadata": {},
   "source": [
    "1)Same day transactions are the lowest whereas the standard class transactions are the highest.\r\n",
    "\r\n",
    "2)The consumer segment has the highest numbers\r\n",
    "\r\n",
    "3)West region has the highest transaction followed by East.\r\n",
    "\r\n",
    "4)The office supplies category shows the highest distribution.\r\n",
    "\r\n",
    "5)The binders sub-category has the highest proportion with the copiers cateing the least\n",
    "\n",
    "6)For minimum discount profit was good but as discount increases profit decres\n",
    "\r\n",
    "7) \r\n",
    "Profit is lowest aout 50% discnt.\n",
    "\n",
    "\n",
    "8) At 50% discount there is peak sale and beyond 50% sales fall which might occur due to fall in product quality due to a higher rate of discount.nte least."
   ]
  },
  {
   "cell_type": "markdown",
   "id": "83743f65-5052-4bb8-a443-d50ff6a51027",
   "metadata": {},
   "source": [
    "**_Numerical-Categorical Analysis_**"
   ]
  },
  {
   "cell_type": "markdown",
   "id": "dc414e26-74c4-440b-8ae8-6f3f854d0424",
   "metadata": {},
   "source": [
    "1) Observed drastic change in graphs despite having large average profit for same day shipment but it is making less overall profit and sales for business. The reason might be less people preferring same day shipment.So we should focus on same day shipment marketing.\n",
    "\n",
    "2) Despite having large average profit and sales for Home Office segment it is making less total profit as well as total sales. The reason might be less transactions in this segment. By targetting this segment we can increase total transactions to make more profit.\n",
    "\n",
    "3) Vermont and Wyoming with the highest sales and average profit but total profit is less. It might be due to less total transactions.\n",
    "\n",
    "4) California, New Mexico, Kansas, South Dakota, North Dakota are some of the states having very less average profit and average sales.Though California has less average profit but we saw in univariete analysis California has more number of transactions than the other states. Hence, visualized overall profit and sales state wise.\n",
    "\n",
    "5)  Florida, lorth Carolina, Texas, Pennsylvania, Illinois, Arizona, Tennessee, Oregon, Colorado, Ohio are the states that are completely in loss which is represented by negative profit in the graph. There no change in overall profit for these states. We should focus on such states.\n",
    "\n",
    "6)  Central region is having minimum profit as well as sales. So. we explored pattern for Central region why it is having less profit and need to focus on that region to excel business profit.\n",
    "\n",
    "7)  Though we've highest average profit for category Technology but we saw in count plot it has overall less transaction than other categories. Hence visualized over all Profit and Sales Category wise.\n",
    "\n",
    "8)  As we saw clearly though category Furniture has good sales but it is making less profit. One reason might be high discount as we saw in the trend.Visualized product categories over Average Discount, and as expected products in Category Furniture has more average discount than the other categories.\n",
    "\n",
    "9)  Copiers are making highest profit as well as sales so market is doing good in this product sub-category,Bookcases, Labels, Tables, Furnishings, Art, Binders, Fastners, Supplies are certain praduct categories which are either having very less average profit or completely in loss.Even though Binders has less average profit but we saw in count plot, Binders have highest number of transactions. Hence, overall profit of Binders are good.\n",
    "\n",
    "10)  Also Binders have highest discount so it might have high loss for some other patterns.\n",
    "\n",
    "11)  Sub-Categories like Bookcases, Tables, Machine have less proft or Ioss despite of having good sales. Reason behind this is highest discount.So, we could focus on the discount provided to these categories.\n",
    "\n",
    "\n",
    "\n",
    "\n",
    "\n",
    "   \n",
    "\n",
    "\n",
    "\n"
   ]
  },
  {
   "cell_type": "markdown",
   "id": "04885c85-32eb-4cb9-9339-22455bc25062",
   "metadata": {},
   "source": [
    "**_City-wise Profit Exploration_**"
   ]
  },
  {
   "cell_type": "markdown",
   "id": "ee84d825-56a9-4cca-b972-e3086bd9a1d6",
   "metadata": {},
   "source": [
    "1)As we saw, Sub- Categories Bookcases, Tables, Machine, Labels, Art, Fasteners, Paper, Supplies, Envelopes are either making less profit or loss. We explored data city wise to know in which city these sub-categories are making loss or less profit.\n",
    "\n",
    "2)This multi-variate analysis was not possible with 2-D graphs because of large no. of cities. Hence, I've created a heatmap of sub-categories sold across cities for better and handy visualization.\n",
    "\n",
    "3)The heatmap shows a varied distribution of sales across different cities and sub-categories. Some cities have higher overall sales compared to others, and certain sub-categories consistently perform better in terms of sales. \n",
    "\n",
    "4)Cities like Santa Clara seem to have significantly higher sales across multiple sub-categories, indicating a potentially larger market or higher consumer spending. On the other hand, cities like Round Rock have relatively lower sales across most sub-categories.\n",
    "\n",
    "5)Looking at city-wise profit-\n",
    "\n",
    "\n",
    "•Philadelphia experiencing significant losses across multiple sub-categories.\n",
    "\r\n",
    "\n",
    "•Houston has substantial losses in Bookcases, Machines, and Tables. Though Paper shows positive profit here.\n",
    "\n",
    "\n",
    "\n",
    "•Phoenix, Aurora shows significant losses in Table.\n",
    "\n",
    "\n",
    "\n",
    "•Springfield shows losses in Machines and Bookcases but makes profit in Tables.\n",
    "\n",
    "\n",
    "\n"
   ]
  },
  {
   "cell_type": "markdown",
   "id": "fbf275a3-5b2b-4538-aa22-3b889e8f9014",
   "metadata": {},
   "source": [
    "**_RECOMMENDATIONS :_**"
   ]
  },
  {
   "cell_type": "markdown",
   "id": "133226b3-af5c-4919-bb3d-c32df2fdb78f",
   "metadata": {},
   "source": [
    "•We saw discount above 23% leads to loss and at 50% discount it gives highest loss. So, we should avoid to give large discount ie. beyond 23% to make profit because more discount sometimes raises doubt regarding product quality. Hence, this might decrease overall sales.\n",
    "\n",
    "•We should focus on cities like Burlington, San Francisco as they're making large profit in Bookcases and we could make highest profit if we increase Bookcases stock in these cities as they're making large profit.\n",
    "\n",
    "•Cities like Philadelphia, Houston, Colorado Spring are making loss, so we shouldn't increase the Bookcases stock in these area to avoid major losses.\n",
    "\n",
    "•Settle has highest profit at minimum discount for Tables. Hence, for more business profit Tables stock needs to be increased here.\n",
    "\n",
    "•Copiers are making highest profit as well as sales.So market is doing good in this product sub-category and hence it's stock can be increased.\n",
    "\n",
    "•State California has more number of transactions than the other states though it's having less average profit.Product stock can be increased in this area.\n",
    "\n",
    "•Binders have highest number of transactions.But it also has highest discount and hence loss for some patterns. So, we should handle it accordingly,\n",
    "\n",
    "•Florida, North Carolina, Texas, Pennsylvania, Illinois, Arizona, Tennessee, Oregon, Colorado, Ohio are the states that are completely in loss. So, we should not increase stock in these areas because that would lead to a high loss in the business.\n",
    "\n",
    "•Sub-Categories like Bookcases, Tables , Machines have less profit or loss despite of having good sales. Reason behind this might be high discount. So, we should focus on reducing the discount provided to these categories.\n",
    "\n",
    "•Category Furniture has good sales but it is making less profit. We need to focus on the discount provided for this category.\n",
    "\n",
    "•Since Technology is making highest average profit but having less number of transactions so we could increase the product stock for this sub-category.\n",
    "\n",
    "\n",
    "\n",
    "\n",
    "\n",
    "\n",
    "\n"
   ]
  },
  {
   "cell_type": "markdown",
   "id": "269a1fb6-5da5-42a7-a81e-b46beee3a13d",
   "metadata": {},
   "source": [
    "**_THANK YOU!_**          "
   ]
  },
  {
   "cell_type": "code",
   "execution_count": null,
   "id": "7cd2e13e-4433-4bb4-8630-f6ed77ad8543",
   "metadata": {},
   "outputs": [],
   "source": []
  },
  {
   "cell_type": "code",
   "execution_count": null,
   "id": "3e9656ba-dac1-44a4-88a5-6f9cb16b4c5c",
   "metadata": {},
   "outputs": [],
   "source": []
  }
 ],
 "metadata": {
  "kernelspec": {
   "display_name": "Python 3 (ipykernel)",
   "language": "python",
   "name": "python3"
  },
  "language_info": {
   "codemirror_mode": {
    "name": "ipython",
    "version": 3
   },
   "file_extension": ".py",
   "mimetype": "text/x-python",
   "name": "python",
   "nbconvert_exporter": "python",
   "pygments_lexer": "ipython3",
   "version": "3.12.4"
  }
 },
 "nbformat": 4,
 "nbformat_minor": 5
}
